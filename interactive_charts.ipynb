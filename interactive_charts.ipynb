{
 "cells": [
  {
   "cell_type": "code",
   "execution_count": 3,
   "metadata": {
    "pycharm": {
     "name": "#%%\n"
    }
   },
   "outputs": [],
   "source": [
    "import pandas as pd\n",
    "import altair as alt\n",
    "from datetime import date\n",
    "import os"
   ]
  },
  {
   "cell_type": "code",
   "execution_count": null,
   "outputs": [],
   "source": [
    "!chmod +x update_data_logs.sh\n",
    "!./update_data_logs.sh"
   ],
   "metadata": {
    "collapsed": false,
    "pycharm": {
     "name": "#%%\n"
    }
   }
  },
  {
   "cell_type": "markdown",
   "source": [
    "## Altair code"
   ],
   "metadata": {
    "collapsed": false,
    "pycharm": {
     "name": "#%% md\n"
    }
   }
  },
  {
   "cell_type": "code",
   "execution_count": 5,
   "outputs": [],
   "source": [
    "url = os.path.join(os.path.curdir,\"logs\",\"predicted_stats.json\")\n",
    "data = pd.read_json(url)\n",
    "\n",
    "cutoff_path = os.path.join(os.path.curdir,\"logs\",\"season_cutoffs.pkl\")\n",
    "cutoffs = pd.read_pickle(cutoff_path)"
   ],
   "metadata": {
    "collapsed": false,
    "pycharm": {
     "name": "#%%\n"
    }
   }
  },
  {
   "cell_type": "code",
   "execution_count": 7,
   "outputs": [],
   "source": [
    "#player dropdown menu\n",
    "players = data.PLAYER_NAME.sort_values().unique()\n",
    "player_dropdown = alt.binding_select(\n",
    "    options=players,\n",
    "    name='Player: '\n",
    ")\n",
    "player_selection = alt.selection_single(\n",
    "    fields=['PLAYER_NAME'],\n",
    "    bind=player_dropdown,\n",
    "    init={'PLAYER_NAME':'RJ Barrett'}\n",
    ")\n",
    "\n",
    "#radio filter\n",
    "stat = ['PTS', 'REB', 'AST', 'FG3M', 'BLK', 'STL']\n",
    "stat_group = [[s, s+\"_PREDICT\"] for s in stat]\n",
    "\n",
    "stat_radio = alt.binding_radio(\n",
    "    options=stat_group,\n",
    "    name=\"Stat: \",\n",
    "    labels=stat\n",
    ")\n",
    "stat_selection = alt.selection_single(\n",
    "    fields=['MODEL'],\n",
    "    bind=stat_radio\n",
    ")\n",
    "\n",
    "#get season domain to limit initial plotting\n",
    "domain = [cutoffs.loc[cutoffs['PLAYOFFS']=='Regular Season']['start'].max(),\n",
    "          date.today().strftime(\"%Y-%m-%d\")]\n",
    "\n",
    "alt.data_transformers.disable_max_rows()\n",
    "\n",
    "#make chart of points (actual vs. predicted)\n",
    "chart = (\n",
    "    alt.Chart(data, title='Actual vs. Predicted Points')\n",
    "    .mark_line(point=True)\n",
    "    .encode(\n",
    "        x = alt.X('GAME_DATE:T', title='Game date', timeUnit='yearmonthdate', scale=alt.Scale(domain=domain)),\n",
    "        y = alt.Y('VALUE:Q', title='Points'),\n",
    "        color = 'MODEL:N',\n",
    "        tooltip=['PLAYER_NAME:N','MODEL:N','VALUE:Q', 'GAME_DATE:T', 'OPPONENT:N']\n",
    "    )\n",
    "    .add_selection(player_selection)\n",
    "    .transform_filter(player_selection)\n",
    "    .add_selection(stat_selection)\n",
    "    .transform_filter(stat_selection)\n",
    "    .interactive()\n",
    ")\n",
    "\n",
    "#make chart of playoff vs. regular season regions to overlay\n",
    "\n",
    "playoffs = (\n",
    "    alt.Chart(cutoffs)\n",
    "    .mark_rect(opacity=0.15)\n",
    "    .encode(\n",
    "        x='start:T',\n",
    "        x2 = 'stop:T',\n",
    "        y=alt.value(0),\n",
    "        y2=alt.value(300),\n",
    "        color=alt.Color('PLAYOFFS:N', legend=alt.Legend(title=\"Legend\"))\n",
    "    )\n",
    ")\n",
    "\n",
    "final_chart = alt.layer(\n",
    "    chart,\n",
    "    playoffs\n",
    ").properties(width=800, height=300)"
   ],
   "metadata": {
    "collapsed": false,
    "pycharm": {
     "name": "#%%\n"
    }
   }
  },
  {
   "cell_type": "markdown",
   "source": [
    "## Past performance chart"
   ],
   "metadata": {
    "collapsed": false,
    "pycharm": {
     "name": "#%% md\n"
    }
   }
  },
  {
   "cell_type": "code",
   "execution_count": null,
   "outputs": [],
   "source": [
    "final_chart"
   ],
   "metadata": {
    "collapsed": false,
    "pycharm": {
     "name": "#%%\n",
     "is_executing": true
    }
   }
  },
  {
   "cell_type": "markdown",
   "source": [
    "# BEST BET FOR UPCOMING GAME"
   ],
   "metadata": {
    "collapsed": false,
    "pycharm": {
     "name": "#%% md\n"
    }
   }
  },
  {
   "cell_type": "markdown",
   "source": [
    "## Altair code"
   ],
   "metadata": {
    "collapsed": false,
    "pycharm": {
     "name": "#%% md\n"
    }
   }
  },
  {
   "cell_type": "code",
   "execution_count": null,
   "outputs": [],
   "source": [
    "best_bet_path = os.path.join(os.path.curdir, \"logs\", f\"best_bet.pkl\")\n",
    "df = pd.read_pickle(best_bet_path)\n",
    "\n",
    "#radio filter\n",
    "stat = ['PTS', 'REB', 'AST', 'FG3M', 'BLK', 'STL']\n",
    "\n",
    "stat_radio = alt.binding_radio(\n",
    "    options=stat_group,\n",
    "    name=\"Stat: \",\n",
    "    labels=stat\n",
    ")\n",
    "stat_selection = alt.selection_single(\n",
    "    fields=['STAT'],\n",
    "    bind=stat_radio,\n",
    "    init={'STAT':'PTS'}\n",
    ")\n",
    "\n",
    "#make bar chart\n",
    "best_bet_chart = (\n",
    "    alt.Chart(df, title=\"Best bet predictor\")\n",
    "    .mark_bar()\n",
    "    .encode(\n",
    "        x=alt.X(\"PLAYER_NAME:N\", sort='y', title='Player'),\n",
    "        y=alt.Y(\"dff:Q\", title='Score'),\n",
    "        color=alt.condition(\n",
    "            alt.datum.dff > 0,\n",
    "            alt.value(\"steelblue\"),\n",
    "            alt.value(\"orange\")\n",
    "        ),\n",
    "        tooltip=[\"GAME_DATE:T\",\"LINE:Q\",\"PREDICT:Q\"]\n",
    "    )\n",
    "    .add_selection(stat_selection)\n",
    "    .transform_filter(stat_selection)\n",
    "    .properties(width=400,height=300)\n",
    ")"
   ],
   "metadata": {
    "collapsed": false,
    "pycharm": {
     "name": "#%%\n"
    }
   }
  },
  {
   "cell_type": "markdown",
   "source": [
    "## BEST BET CHART"
   ],
   "metadata": {
    "collapsed": false,
    "pycharm": {
     "name": "#%% md\n"
    }
   }
  },
  {
   "cell_type": "code",
   "execution_count": null,
   "outputs": [],
   "source": [
    "best_bet_chart"
   ],
   "metadata": {
    "collapsed": false,
    "pycharm": {
     "name": "#%%\n"
    }
   }
  },
  {
   "cell_type": "code",
   "execution_count": null,
   "outputs": [],
   "source": [],
   "metadata": {
    "collapsed": false,
    "pycharm": {
     "name": "#%%\n"
    }
   }
  },
  {
   "cell_type": "markdown",
   "metadata": {
    "pycharm": {
     "name": "#%% md\n"
    }
   },
   "source": [
    "## BEST BET CHART"
   ]
  },
  {
   "cell_type": "code",
   "execution_count": 8,
   "metadata": {
    "pycharm": {
     "name": "#%%\n"
    }
   },
   "outputs": [
    {
     "data": {
      "text/html": [
       "\n",
       "<div id=\"altair-viz-e91a4fdf6ef54d748df976b114f6cab8\"></div>\n",
       "<script type=\"text/javascript\">\n",
       "  var VEGA_DEBUG = (typeof VEGA_DEBUG == \"undefined\") ? {} : VEGA_DEBUG;\n",
       "  (function(spec, embedOpt){\n",
       "    let outputDiv = document.currentScript.previousElementSibling;\n",
       "    if (outputDiv.id !== \"altair-viz-e91a4fdf6ef54d748df976b114f6cab8\") {\n",
       "      outputDiv = document.getElementById(\"altair-viz-e91a4fdf6ef54d748df976b114f6cab8\");\n",
       "    }\n",
       "    const paths = {\n",
       "      \"vega\": \"https://cdn.jsdelivr.net/npm//vega@5?noext\",\n",
       "      \"vega-lib\": \"https://cdn.jsdelivr.net/npm//vega-lib?noext\",\n",
       "      \"vega-lite\": \"https://cdn.jsdelivr.net/npm//vega-lite@4.17.0?noext\",\n",
       "      \"vega-embed\": \"https://cdn.jsdelivr.net/npm//vega-embed@6?noext\",\n",
       "    };\n",
       "\n",
       "    function maybeLoadScript(lib, version) {\n",
       "      var key = `${lib.replace(\"-\", \"\")}_version`;\n",
       "      return (VEGA_DEBUG[key] == version) ?\n",
       "        Promise.resolve(paths[lib]) :\n",
       "        new Promise(function(resolve, reject) {\n",
       "          var s = document.createElement('script');\n",
       "          document.getElementsByTagName(\"head\")[0].appendChild(s);\n",
       "          s.async = true;\n",
       "          s.onload = () => {\n",
       "            VEGA_DEBUG[key] = version;\n",
       "            return resolve(paths[lib]);\n",
       "          };\n",
       "          s.onerror = () => reject(`Error loading script: ${paths[lib]}`);\n",
       "          s.src = paths[lib];\n",
       "        });\n",
       "    }\n",
       "\n",
       "    function showError(err) {\n",
       "      outputDiv.innerHTML = `<div class=\"error\" style=\"color:red;\">${err}</div>`;\n",
       "      throw err;\n",
       "    }\n",
       "\n",
       "    function displayChart(vegaEmbed) {\n",
       "      vegaEmbed(outputDiv, spec, embedOpt)\n",
       "        .catch(err => showError(`Javascript Error: ${err.message}<br>This usually means there's a typo in your chart specification. See the javascript console for the full traceback.`));\n",
       "    }\n",
       "\n",
       "    if(typeof define === \"function\" && define.amd) {\n",
       "      requirejs.config({paths});\n",
       "      require([\"vega-embed\"], displayChart, err => showError(`Error loading script: ${err.message}`));\n",
       "    } else {\n",
       "      maybeLoadScript(\"vega\", \"5\")\n",
       "        .then(() => maybeLoadScript(\"vega-lite\", \"4.17.0\"))\n",
       "        .then(() => maybeLoadScript(\"vega-embed\", \"6\"))\n",
       "        .catch(showError)\n",
       "        .then(() => displayChart(vegaEmbed));\n",
       "    }\n",
       "  })({\"config\": {\"view\": {\"continuousWidth\": 400, \"continuousHeight\": 300}}, \"data\": {\"name\": \"data-5abc4fcfe392cecf5d4fa01d1c91efb4\"}, \"mark\": \"bar\", \"encoding\": {\"color\": {\"condition\": {\"value\": \"steelblue\", \"test\": \"(datum.dff > 0)\"}, \"value\": \"orange\"}, \"tooltip\": [{\"field\": \"GAME_DATE\", \"type\": \"temporal\"}, {\"field\": \"LINE\", \"type\": \"quantitative\"}, {\"field\": \"PREDICT\", \"type\": \"quantitative\"}], \"x\": {\"field\": \"PLAYER_NAME\", \"sort\": \"y\", \"title\": \"Player\", \"type\": \"nominal\"}, \"y\": {\"field\": \"dff\", \"title\": \"Score\", \"type\": \"quantitative\"}}, \"height\": 300, \"selection\": {\"selector004\": {\"type\": \"single\", \"fields\": [\"STAT\"], \"bind\": {\"input\": \"radio\", \"options\": [[\"PTS\", \"PTS_PREDICT\"], [\"REB\", \"REB_PREDICT\"], [\"AST\", \"AST_PREDICT\"], [\"FG3M\", \"FG3M_PREDICT\"], [\"BLK\", \"BLK_PREDICT\"], [\"STL\", \"STL_PREDICT\"]], \"labels\": [\"PTS\", \"REB\", \"AST\", \"FG3M\", \"BLK\", \"STL\"], \"name\": \"Stat: \"}, \"init\": {\"STAT\": \"PTS\"}}}, \"title\": \"Best bet predictor\", \"transform\": [{\"filter\": {\"selection\": \"selector004\"}}], \"width\": 400, \"$schema\": \"https://vega.github.io/schema/vega-lite/v4.17.0.json\", \"datasets\": {\"data-5abc4fcfe392cecf5d4fa01d1c91efb4\": [{\"PLAYER_NAME\": \"Al Horford\", \"GAME_DATE\": \"2022-06-08\", \"STAT\": \"PTS\", \"PREDICT\": 10.789631279590555, \"LINE\": 11.5, \"OVER\": -105.0, \"UNDER\": -120.0, \"dff\": -0.061771193079082166}, {\"PLAYER_NAME\": \"Al Horford\", \"GAME_DATE\": \"2022-06-08\", \"STAT\": \"REB\", \"PREDICT\": 7.718659597855641, \"LINE\": 8.5, \"OVER\": -140.0, \"UNDER\": 105.0, \"dff\": -0.0919224002522775}, {\"PLAYER_NAME\": \"Al Horford\", \"GAME_DATE\": \"2022-06-08\", \"STAT\": \"AST\", \"PREDICT\": 2.15542274014724, \"LINE\": 2.5, \"OVER\": -185.0, \"UNDER\": 135.0, \"dff\": -0.13783090394110395}, {\"PLAYER_NAME\": \"Al Horford\", \"GAME_DATE\": \"2022-06-08\", \"STAT\": \"FG3M\", \"PREDICT\": 1.4701882297637021, \"LINE\": 1.5, \"OVER\": -110.0, \"UNDER\": -115.0, \"dff\": -0.019874513490865258}, {\"PLAYER_NAME\": \"Al Horford\", \"GAME_DATE\": \"2022-06-08\", \"STAT\": \"BLK\", \"PREDICT\": 0.8784023114621554, \"LINE\": 1.5, \"OVER\": 135.0, \"UNDER\": -185.0, \"dff\": -0.4143984590252297}, {\"PLAYER_NAME\": \"Al Horford\", \"GAME_DATE\": \"2022-06-08\", \"STAT\": \"STL\", \"PREDICT\": 0.7391433340899798, \"LINE\": 0.5, \"OVER\": -170.0, \"UNDER\": 125.0, \"dff\": 0.4782866681799596}, {\"PLAYER_NAME\": \"Al Horford\", \"GAME_DATE\": \"2022-06-08\", \"STAT\": \"PR\", \"PREDICT\": null, \"LINE\": 20.5, \"OVER\": -105.0, \"UNDER\": -130.0, \"dff\": null}, {\"PLAYER_NAME\": \"Al Horford\", \"GAME_DATE\": \"2022-06-08\", \"STAT\": \"PA\", \"PREDICT\": null, \"LINE\": 14.5, \"OVER\": -110.0, \"UNDER\": -120.0, \"dff\": null}, {\"PLAYER_NAME\": \"Al Horford\", \"GAME_DATE\": \"2022-06-08\", \"STAT\": \"AR\", \"PREDICT\": null, \"LINE\": 12.5, \"OVER\": 100.0, \"UNDER\": -135.0, \"dff\": null}, {\"PLAYER_NAME\": \"Al Horford\", \"GAME_DATE\": \"2022-06-08\", \"STAT\": \"SB\", \"PREDICT\": null, \"LINE\": 2.5, \"OVER\": 135.0, \"UNDER\": -185.0, \"dff\": null}, {\"PLAYER_NAME\": \"Al Horford\", \"GAME_DATE\": \"2022-06-08\", \"STAT\": \"PRA\", \"PREDICT\": null, \"LINE\": 23.5, \"OVER\": -110.0, \"UNDER\": -125.0, \"dff\": null}, {\"PLAYER_NAME\": \"Andrew Wiggins\", \"GAME_DATE\": \"2022-06-08\", \"STAT\": \"PTS\", \"PREDICT\": 14.812526797228651, \"LINE\": 15.5, \"OVER\": -135.0, \"UNDER\": 105.0, \"dff\": -0.04435310985621605}, {\"PLAYER_NAME\": \"Andrew Wiggins\", \"GAME_DATE\": \"2022-06-08\", \"STAT\": \"REB\", \"PREDICT\": 5.931013476677229, \"LINE\": 5.5, \"OVER\": -115.0, \"UNDER\": -115.0, \"dff\": 0.07836608666858715}, {\"PLAYER_NAME\": \"Andrew Wiggins\", \"GAME_DATE\": \"2022-06-08\", \"STAT\": \"AST\", \"PREDICT\": 1.996168796437847, \"LINE\": 1.5, \"OVER\": 105.0, \"UNDER\": -135.0, \"dff\": 0.3307791976252313}, {\"PLAYER_NAME\": \"Andrew Wiggins\", \"GAME_DATE\": \"2022-06-08\", \"STAT\": \"FG3M\", \"PREDICT\": 1.9117651523617327, \"LINE\": 1.5, \"OVER\": -125.0, \"UNDER\": -105.0, \"dff\": 0.27451010157448846}, {\"PLAYER_NAME\": \"Andrew Wiggins\", \"GAME_DATE\": \"2022-06-08\", \"STAT\": \"BLK\", \"PREDICT\": 0.765594325453806, \"LINE\": 0.5, \"OVER\": -125.0, \"UNDER\": -110.0, \"dff\": 0.531188650907612}, {\"PLAYER_NAME\": \"Andrew Wiggins\", \"GAME_DATE\": \"2022-06-08\", \"STAT\": \"STL\", \"PREDICT\": 0.8478514609178748, \"LINE\": 0.5, \"OVER\": -180.0, \"UNDER\": 130.0, \"dff\": 0.6957029218357496}, {\"PLAYER_NAME\": \"Andrew Wiggins\", \"GAME_DATE\": \"2022-06-08\", \"STAT\": \"PR\", \"PREDICT\": null, \"LINE\": 21.5, \"OVER\": -120.0, \"UNDER\": -110.0, \"dff\": null}, {\"PLAYER_NAME\": \"Andrew Wiggins\", \"GAME_DATE\": \"2022-06-08\", \"STAT\": \"PA\", \"PREDICT\": null, \"LINE\": 17.5, \"OVER\": -110.0, \"UNDER\": -120.0, \"dff\": null}, {\"PLAYER_NAME\": \"Andrew Wiggins\", \"GAME_DATE\": \"2022-06-08\", \"STAT\": \"AR\", \"PREDICT\": null, \"LINE\": 7.5, \"OVER\": 100.0, \"UNDER\": -135.0, \"dff\": null}, {\"PLAYER_NAME\": \"Andrew Wiggins\", \"GAME_DATE\": \"2022-06-08\", \"STAT\": \"SB\", \"PREDICT\": null, \"LINE\": 1.5, \"OVER\": -115.0, \"UNDER\": -115.0, \"dff\": null}, {\"PLAYER_NAME\": \"Andrew Wiggins\", \"GAME_DATE\": \"2022-06-08\", \"STAT\": \"PRA\", \"PREDICT\": null, \"LINE\": 23.5, \"OVER\": -105.0, \"UNDER\": -125.0, \"dff\": null}, {\"PLAYER_NAME\": \"Derrick White\", \"GAME_DATE\": \"2022-06-08\", \"STAT\": \"PTS\", \"PREDICT\": 13.322961296775464, \"LINE\": 11.5, \"OVER\": -110.0, \"UNDER\": -115.0, \"dff\": 0.15851837363264903}, {\"PLAYER_NAME\": \"Derrick White\", \"GAME_DATE\": \"2022-06-08\", \"STAT\": \"REB\", \"PREDICT\": 3.891677482999229, \"LINE\": 3.5, \"OVER\": 100.0, \"UNDER\": -135.0, \"dff\": 0.11190785228549403}, {\"PLAYER_NAME\": \"Derrick White\", \"GAME_DATE\": \"2022-06-08\", \"STAT\": \"AST\", \"PREDICT\": 2.301457116866162, \"LINE\": 2.5, \"OVER\": -180.0, \"UNDER\": 135.0, \"dff\": -0.07941715325353513}, {\"PLAYER_NAME\": \"Derrick White\", \"GAME_DATE\": \"2022-06-08\", \"STAT\": \"FG3M\", \"PREDICT\": 1.9282410303333803, \"LINE\": 1.5, \"OVER\": -150.0, \"UNDER\": 115.0, \"dff\": 0.28549402022225356}, {\"PLAYER_NAME\": \"Derrick White\", \"GAME_DATE\": \"2022-06-08\", \"STAT\": \"BLK\", \"PREDICT\": 0.4934515894758439, \"LINE\": 0.5, \"OVER\": 100.0, \"UNDER\": -135.0, \"dff\": -0.013096821048312224}, {\"PLAYER_NAME\": \"Derrick White\", \"GAME_DATE\": \"2022-06-08\", \"STAT\": \"STL\", \"PREDICT\": 0.9353961789567227, \"LINE\": 0.5, \"OVER\": -145.0, \"UNDER\": 105.0, \"dff\": 0.8707923579134453}, {\"PLAYER_NAME\": \"Derrick White\", \"GAME_DATE\": \"2022-06-08\", \"STAT\": \"PR\", \"PREDICT\": null, \"LINE\": 14.5, \"OVER\": -135.0, \"UNDER\": 100.0, \"dff\": null}, {\"PLAYER_NAME\": \"Derrick White\", \"GAME_DATE\": \"2022-06-08\", \"STAT\": \"PA\", \"PREDICT\": null, \"LINE\": 14.5, \"OVER\": -105.0, \"UNDER\": -125.0, \"dff\": null}, {\"PLAYER_NAME\": \"Derrick White\", \"GAME_DATE\": \"2022-06-08\", \"STAT\": \"AR\", \"PREDICT\": null, \"LINE\": 6.5, \"OVER\": -110.0, \"UNDER\": -125.0, \"dff\": null}, {\"PLAYER_NAME\": \"Derrick White\", \"GAME_DATE\": \"2022-06-08\", \"STAT\": \"SB\", \"PREDICT\": null, \"LINE\": 1.5, \"OVER\": 120.0, \"UNDER\": -165.0, \"dff\": null}, {\"PLAYER_NAME\": \"Derrick White\", \"GAME_DATE\": \"2022-06-08\", \"STAT\": \"PRA\", \"PREDICT\": null, \"LINE\": 17.5, \"OVER\": -145.0, \"UNDER\": 110.0, \"dff\": null}, {\"PLAYER_NAME\": \"Draymond Green\", \"GAME_DATE\": \"2022-06-08\", \"STAT\": \"PTS\", \"PREDICT\": 10.943911201137965, \"LINE\": null, \"OVER\": null, \"UNDER\": null, \"dff\": null}, {\"PLAYER_NAME\": \"Draymond Green\", \"GAME_DATE\": \"2022-06-08\", \"STAT\": \"REB\", \"PREDICT\": 7.075119177875023, \"LINE\": 7.5, \"OVER\": 100.0, \"UNDER\": -130.0, \"dff\": -0.056650776283330255}, {\"PLAYER_NAME\": \"Draymond Green\", \"GAME_DATE\": \"2022-06-08\", \"STAT\": \"AST\", \"PREDICT\": 5.233552291290039, \"LINE\": 5.5, \"OVER\": -155.0, \"UNDER\": 115.0, \"dff\": -0.048445037947265686}, {\"PLAYER_NAME\": \"Draymond Green\", \"GAME_DATE\": \"2022-06-08\", \"STAT\": \"FG3M\", \"PREDICT\": 0.7823463265365224, \"LINE\": null, \"OVER\": null, \"UNDER\": null, \"dff\": null}, {\"PLAYER_NAME\": \"Draymond Green\", \"GAME_DATE\": \"2022-06-08\", \"STAT\": \"BLK\", \"PREDICT\": 0.7589298567670517, \"LINE\": 0.5, \"OVER\": -225.0, \"UNDER\": 160.0, \"dff\": 0.5178597135341034}, {\"PLAYER_NAME\": \"Draymond Green\", \"GAME_DATE\": \"2022-06-08\", \"STAT\": \"STL\", \"PREDICT\": 1.2326813733033815, \"LINE\": 1.5, \"OVER\": 160.0, \"UNDER\": -225.0, \"dff\": -0.1782124177977457}, {\"PLAYER_NAME\": \"Draymond Green\", \"GAME_DATE\": \"2022-06-08\", \"STAT\": \"PR\", \"PREDICT\": null, \"LINE\": 15.5, \"OVER\": -115.0, \"UNDER\": -120.0, \"dff\": null}, {\"PLAYER_NAME\": \"Draymond Green\", \"GAME_DATE\": \"2022-06-08\", \"STAT\": \"PA\", \"PREDICT\": null, \"LINE\": 14.5, \"OVER\": -110.0, \"UNDER\": -125.0, \"dff\": null}, {\"PLAYER_NAME\": \"Draymond Green\", \"GAME_DATE\": \"2022-06-08\", \"STAT\": \"AR\", \"PREDICT\": null, \"LINE\": 13.5, \"OVER\": -105.0, \"UNDER\": -125.0, \"dff\": null}, {\"PLAYER_NAME\": \"Draymond Green\", \"GAME_DATE\": \"2022-06-08\", \"STAT\": \"SB\", \"PREDICT\": null, \"LINE\": 2.5, \"OVER\": 130.0, \"UNDER\": -180.0, \"dff\": null}, {\"PLAYER_NAME\": \"Draymond Green\", \"GAME_DATE\": \"2022-06-08\", \"STAT\": \"PRA\", \"PREDICT\": null, \"LINE\": 21.5, \"OVER\": -115.0, \"UNDER\": -115.0, \"dff\": null}, {\"PLAYER_NAME\": \"Grant Williams\", \"GAME_DATE\": \"2022-06-08\", \"STAT\": \"PTS\", \"PREDICT\": 6.253721907628543, \"LINE\": 5.5, \"OVER\": -130.0, \"UNDER\": 105.0, \"dff\": 0.1370403468415532}, {\"PLAYER_NAME\": \"Grant Williams\", \"GAME_DATE\": \"2022-06-08\", \"STAT\": \"REB\", \"PREDICT\": 4.386968547442598, \"LINE\": 2.5, \"OVER\": -130.0, \"UNDER\": 100.0, \"dff\": 0.7547874189770394}, {\"PLAYER_NAME\": \"Grant Williams\", \"GAME_DATE\": \"2022-06-08\", \"STAT\": \"AST\", \"PREDICT\": 1.1274284108254884, \"LINE\": 0.5, \"OVER\": -140.0, \"UNDER\": 105.0, \"dff\": 1.2548568216509768}, {\"PLAYER_NAME\": \"Grant Williams\", \"GAME_DATE\": \"2022-06-08\", \"STAT\": \"FG3M\", \"PREDICT\": 0.5023464722109259, \"LINE\": 0.5, \"OVER\": -155.0, \"UNDER\": 120.0, \"dff\": 0.004692944421851752}, {\"PLAYER_NAME\": \"Grant Williams\", \"GAME_DATE\": \"2022-06-08\", \"STAT\": \"BLK\", \"PREDICT\": 0.6212765854347965, \"LINE\": 0.5, \"OVER\": 120.0, \"UNDER\": -160.0, \"dff\": 0.24255317086959294}, {\"PLAYER_NAME\": \"Grant Williams\", \"GAME_DATE\": \"2022-06-08\", \"STAT\": \"STL\", \"PREDICT\": 0.5855728481245412, \"LINE\": 0.5, \"OVER\": 205.0, \"UNDER\": -295.0, \"dff\": 0.1711456962490825}, {\"PLAYER_NAME\": \"Grant Williams\", \"GAME_DATE\": \"2022-06-08\", \"STAT\": \"PR\", \"PREDICT\": null, \"LINE\": 8.5, \"OVER\": -125.0, \"UNDER\": -110.0, \"dff\": null}, {\"PLAYER_NAME\": \"Grant Williams\", \"GAME_DATE\": \"2022-06-08\", \"STAT\": \"PA\", \"PREDICT\": null, \"LINE\": 6.5, \"OVER\": -125.0, \"UNDER\": -105.0, \"dff\": null}, {\"PLAYER_NAME\": \"Grant Williams\", \"GAME_DATE\": \"2022-06-08\", \"STAT\": \"AR\", \"PREDICT\": null, \"LINE\": 3.5, \"OVER\": -110.0, \"UNDER\": -125.0, \"dff\": null}, {\"PLAYER_NAME\": \"Grant Williams\", \"GAME_DATE\": \"2022-06-08\", \"STAT\": \"SB\", \"PREDICT\": null, \"LINE\": 0.5, \"OVER\": -170.0, \"UNDER\": 125.0, \"dff\": null}, {\"PLAYER_NAME\": \"Grant Williams\", \"GAME_DATE\": \"2022-06-08\", \"STAT\": \"PRA\", \"PREDICT\": null, \"LINE\": 9.5, \"OVER\": -120.0, \"UNDER\": -115.0, \"dff\": null}, {\"PLAYER_NAME\": \"Jaylen Brown\", \"GAME_DATE\": \"2022-06-08\", \"STAT\": \"PTS\", \"PREDICT\": 21.47197280322453, \"LINE\": 23.5, \"OVER\": -120.0, \"UNDER\": -105.0, \"dff\": -0.08629902965001994}, {\"PLAYER_NAME\": \"Jaylen Brown\", \"GAME_DATE\": \"2022-06-08\", \"STAT\": \"REB\", \"PREDICT\": 5.810485980539046, \"LINE\": 6.5, \"OVER\": -120.0, \"UNDER\": -110.0, \"dff\": -0.1060790799170698}, {\"PLAYER_NAME\": \"Jaylen Brown\", \"GAME_DATE\": \"2022-06-08\", \"STAT\": \"AST\", \"PREDICT\": 4.352848490563696, \"LINE\": 3.5, \"OVER\": -110.0, \"UNDER\": -120.0, \"dff\": 0.2436709973039132}, {\"PLAYER_NAME\": \"Jaylen Brown\", \"GAME_DATE\": \"2022-06-08\", \"STAT\": \"FG3M\", \"PREDICT\": 2.540420685356425, \"LINE\": 2.5, \"OVER\": -130.0, \"UNDER\": 100.0, \"dff\": 0.01616827414257003}, {\"PLAYER_NAME\": \"Jaylen Brown\", \"GAME_DATE\": \"2022-06-08\", \"STAT\": \"BLK\", \"PREDICT\": 0.4193812374952969, \"LINE\": 0.5, \"OVER\": 190.0, \"UNDER\": -270.0, \"dff\": -0.16123752500940625}, {\"PLAYER_NAME\": \"Jaylen Brown\", \"GAME_DATE\": \"2022-06-08\", \"STAT\": \"STL\", \"PREDICT\": 1.0212013715556463, \"LINE\": 1.5, \"OVER\": 155.0, \"UNDER\": -215.0, \"dff\": -0.31919908562956917}, {\"PLAYER_NAME\": \"Jaylen Brown\", \"GAME_DATE\": \"2022-06-08\", \"STAT\": \"PR\", \"PREDICT\": null, \"LINE\": 30.5, \"OVER\": -120.0, \"UNDER\": -115.0, \"dff\": null}, {\"PLAYER_NAME\": \"Jaylen Brown\", \"GAME_DATE\": \"2022-06-08\", \"STAT\": \"PA\", \"PREDICT\": null, \"LINE\": 27.5, \"OVER\": -120.0, \"UNDER\": -115.0, \"dff\": null}, {\"PLAYER_NAME\": \"Jaylen Brown\", \"GAME_DATE\": \"2022-06-08\", \"STAT\": \"AR\", \"PREDICT\": null, \"LINE\": 9.5, \"OVER\": -150.0, \"UNDER\": 110.0, \"dff\": null}, {\"PLAYER_NAME\": \"Jaylen Brown\", \"GAME_DATE\": \"2022-06-08\", \"STAT\": \"SB\", \"PREDICT\": null, \"LINE\": 1.5, \"OVER\": -115.0, \"UNDER\": -115.0, \"dff\": null}, {\"PLAYER_NAME\": \"Jaylen Brown\", \"GAME_DATE\": \"2022-06-08\", \"STAT\": \"PRA\", \"PREDICT\": null, \"LINE\": 34.5, \"OVER\": -110.0, \"UNDER\": -125.0, \"dff\": null}, {\"PLAYER_NAME\": \"Jayson Tatum\", \"GAME_DATE\": \"2022-06-08\", \"STAT\": \"PTS\", \"PREDICT\": 22.49676329981891, \"LINE\": 27.5, \"OVER\": -125.0, \"UNDER\": 100.0, \"dff\": -0.18193588000658514}, {\"PLAYER_NAME\": \"Jayson Tatum\", \"GAME_DATE\": \"2022-06-08\", \"STAT\": \"REB\", \"PREDICT\": 6.480715417456551, \"LINE\": 6.5, \"OVER\": -130.0, \"UNDER\": 100.0, \"dff\": -0.002966858852838291}, {\"PLAYER_NAME\": \"Jayson Tatum\", \"GAME_DATE\": \"2022-06-08\", \"STAT\": \"AST\", \"PREDICT\": 5.8845074563619715, \"LINE\": 5.5, \"OVER\": 115.0, \"UNDER\": -150.0, \"dff\": 0.06991044661126754}, {\"PLAYER_NAME\": \"Jayson Tatum\", \"GAME_DATE\": \"2022-06-08\", \"STAT\": \"FG3M\", \"PREDICT\": 2.324699596312114, \"LINE\": 3.5, \"OVER\": 120.0, \"UNDER\": -155.0, \"dff\": -0.33580011533939597}, {\"PLAYER_NAME\": \"Jayson Tatum\", \"GAME_DATE\": \"2022-06-08\", \"STAT\": \"BLK\", \"PREDICT\": 0.5075315611812778, \"LINE\": 0.5, \"OVER\": -110.0, \"UNDER\": -125.0, \"dff\": 0.015063122362555692}, {\"PLAYER_NAME\": \"Jayson Tatum\", \"GAME_DATE\": \"2022-06-08\", \"STAT\": \"STL\", \"PREDICT\": 1.252906133813572, \"LINE\": 1.5, \"OVER\": 185.0, \"UNDER\": -260.0, \"dff\": -0.16472924412428527}, {\"PLAYER_NAME\": \"Jayson Tatum\", \"GAME_DATE\": \"2022-06-08\", \"STAT\": \"PR\", \"PREDICT\": null, \"LINE\": 34.5, \"OVER\": -115.0, \"UNDER\": -115.0, \"dff\": null}, {\"PLAYER_NAME\": \"Jayson Tatum\", \"GAME_DATE\": \"2022-06-08\", \"STAT\": \"PA\", \"PREDICT\": null, \"LINE\": 33.5, \"OVER\": -105.0, \"UNDER\": -125.0, \"dff\": null}, {\"PLAYER_NAME\": \"Jayson Tatum\", \"GAME_DATE\": \"2022-06-08\", \"STAT\": \"AR\", \"PREDICT\": null, \"LINE\": 11.5, \"OVER\": -140.0, \"UNDER\": 105.0, \"dff\": null}, {\"PLAYER_NAME\": \"Jayson Tatum\", \"GAME_DATE\": \"2022-06-08\", \"STAT\": \"SB\", \"PREDICT\": null, \"LINE\": 1.5, \"OVER\": -135.0, \"UNDER\": 100.0, \"dff\": null}, {\"PLAYER_NAME\": \"Jayson Tatum\", \"GAME_DATE\": \"2022-06-08\", \"STAT\": \"PRA\", \"PREDICT\": null, \"LINE\": 39.5, \"OVER\": -125.0, \"UNDER\": -110.0, \"dff\": null}, {\"PLAYER_NAME\": \"Jordan Poole\", \"GAME_DATE\": \"2022-06-08\", \"STAT\": \"PTS\", \"PREDICT\": 14.152266804582588, \"LINE\": 12.5, \"OVER\": -125.0, \"UNDER\": 100.0, \"dff\": 0.13218134436660706}, {\"PLAYER_NAME\": \"Jordan Poole\", \"GAME_DATE\": \"2022-06-08\", \"STAT\": \"REB\", \"PREDICT\": 3.533704729152077, \"LINE\": null, \"OVER\": null, \"UNDER\": null, \"dff\": null}, {\"PLAYER_NAME\": \"Jordan Poole\", \"GAME_DATE\": \"2022-06-08\", \"STAT\": \"AST\", \"PREDICT\": 3.8068017104651375, \"LINE\": 2.5, \"OVER\": 100.0, \"UNDER\": -130.0, \"dff\": 0.522720684186055}, {\"PLAYER_NAME\": \"Jordan Poole\", \"GAME_DATE\": \"2022-06-08\", \"STAT\": \"FG3M\", \"PREDICT\": 2.3067229325776637, \"LINE\": 1.5, \"OVER\": -150.0, \"UNDER\": 115.0, \"dff\": 0.5378152883851092}, {\"PLAYER_NAME\": \"Jordan Poole\", \"GAME_DATE\": \"2022-06-08\", \"STAT\": \"BLK\", \"PREDICT\": 0.27286567348330504, \"LINE\": 0.5, \"OVER\": 245.0, \"UNDER\": -370.0, \"dff\": -0.4542686530333899}, {\"PLAYER_NAME\": \"Jordan Poole\", \"GAME_DATE\": \"2022-06-08\", \"STAT\": \"STL\", \"PREDICT\": 0.8312966867740937, \"LINE\": 0.5, \"OVER\": -105.0, \"UNDER\": -125.0, \"dff\": 0.6625933735481875}, {\"PLAYER_NAME\": \"Jordan Poole\", \"GAME_DATE\": \"2022-06-08\", \"STAT\": \"PR\", \"PREDICT\": null, \"LINE\": 15.5, \"OVER\": -105.0, \"UNDER\": -135.0, \"dff\": null}, {\"PLAYER_NAME\": \"Jordan Poole\", \"GAME_DATE\": \"2022-06-08\", \"STAT\": \"PA\", \"PREDICT\": null, \"LINE\": 15.5, \"OVER\": -115.0, \"UNDER\": -120.0, \"dff\": null}, {\"PLAYER_NAME\": \"Jordan Poole\", \"GAME_DATE\": \"2022-06-08\", \"STAT\": \"AR\", \"PREDICT\": null, \"LINE\": null, \"OVER\": null, \"UNDER\": null, \"dff\": null}, {\"PLAYER_NAME\": \"Jordan Poole\", \"GAME_DATE\": \"2022-06-08\", \"STAT\": \"SB\", \"PREDICT\": null, \"LINE\": 0.5, \"OVER\": -185.0, \"UNDER\": 135.0, \"dff\": null}, {\"PLAYER_NAME\": \"Jordan Poole\", \"GAME_DATE\": \"2022-06-08\", \"STAT\": \"PRA\", \"PREDICT\": null, \"LINE\": null, \"OVER\": null, \"UNDER\": null, \"dff\": null}, {\"PLAYER_NAME\": \"Kevon Looney\", \"GAME_DATE\": \"2022-06-08\", \"STAT\": \"PTS\", \"PREDICT\": 6.343563885818558, \"LINE\": 6.5, \"OVER\": -130.0, \"UNDER\": 100.0, \"dff\": -0.024067094489452663}, {\"PLAYER_NAME\": \"Kevon Looney\", \"GAME_DATE\": \"2022-06-08\", \"STAT\": \"REB\", \"PREDICT\": 7.879072781718282, \"LINE\": 8.5, \"OVER\": -125.0, \"UNDER\": -105.0, \"dff\": -0.07305026097431977}, {\"PLAYER_NAME\": \"Kevon Looney\", \"GAME_DATE\": \"2022-06-08\", \"STAT\": \"AST\", \"PREDICT\": 2.4519133896144347, \"LINE\": 2.5, \"OVER\": -110.0, \"UNDER\": -120.0, \"dff\": -0.01923464415422611}, {\"PLAYER_NAME\": \"Kevon Looney\", \"GAME_DATE\": \"2022-06-08\", \"STAT\": \"FG3M\", \"PREDICT\": -0.23807780553362332, \"LINE\": null, \"OVER\": null, \"UNDER\": null, \"dff\": null}, {\"PLAYER_NAME\": \"Kevon Looney\", \"GAME_DATE\": \"2022-06-08\", \"STAT\": \"BLK\", \"PREDICT\": 1.1476303457322858, \"LINE\": 0.5, \"OVER\": 105.0, \"UNDER\": -145.0, \"dff\": 1.2952606914645717}, {\"PLAYER_NAME\": \"Kevon Looney\", \"GAME_DATE\": \"2022-06-08\", \"STAT\": \"STL\", \"PREDICT\": 0.8884897645495773, \"LINE\": 0.5, \"OVER\": -115.0, \"UNDER\": -120.0, \"dff\": 0.7769795290991546}, {\"PLAYER_NAME\": \"Kevon Looney\", \"GAME_DATE\": \"2022-06-08\", \"STAT\": \"PR\", \"PREDICT\": null, \"LINE\": 15.5, \"OVER\": -115.0, \"UNDER\": -115.0, \"dff\": null}, {\"PLAYER_NAME\": \"Kevon Looney\", \"GAME_DATE\": \"2022-06-08\", \"STAT\": \"PA\", \"PREDICT\": null, \"LINE\": null, \"OVER\": null, \"UNDER\": null, \"dff\": null}, {\"PLAYER_NAME\": \"Kevon Looney\", \"GAME_DATE\": \"2022-06-08\", \"STAT\": \"AR\", \"PREDICT\": null, \"LINE\": 11.5, \"OVER\": -110.0, \"UNDER\": -125.0, \"dff\": null}, {\"PLAYER_NAME\": \"Kevon Looney\", \"GAME_DATE\": \"2022-06-08\", \"STAT\": \"SB\", \"PREDICT\": null, \"LINE\": 1.5, \"OVER\": 150.0, \"UNDER\": -210.0, \"dff\": null}, {\"PLAYER_NAME\": \"Kevon Looney\", \"GAME_DATE\": \"2022-06-08\", \"STAT\": \"PRA\", \"PREDICT\": null, \"LINE\": 18.5, \"OVER\": -110.0, \"UNDER\": -125.0, \"dff\": null}, {\"PLAYER_NAME\": \"Klay Thompson\", \"GAME_DATE\": \"2022-06-08\", \"STAT\": \"PTS\", \"PREDICT\": 19.756798285807267, \"LINE\": 19.5, \"OVER\": 100.0, \"UNDER\": -125.0, \"dff\": 0.013169142861911154}, {\"PLAYER_NAME\": \"Klay Thompson\", \"GAME_DATE\": \"2022-06-08\", \"STAT\": \"REB\", \"PREDICT\": 2.925612452945921, \"LINE\": 3.5, \"OVER\": -145.0, \"UNDER\": 110.0, \"dff\": -0.1641107277297369}, {\"PLAYER_NAME\": \"Klay Thompson\", \"GAME_DATE\": \"2022-06-08\", \"STAT\": \"AST\", \"PREDICT\": 2.0426474938417716, \"LINE\": 1.5, \"OVER\": -205.0, \"UNDER\": 150.0, \"dff\": 0.3617649958945144}, {\"PLAYER_NAME\": \"Klay Thompson\", \"GAME_DATE\": \"2022-06-08\", \"STAT\": \"FG3M\", \"PREDICT\": 3.5600938298958003, \"LINE\": 2.5, \"OVER\": -190.0, \"UNDER\": 145.0, \"dff\": 0.4240375319583201}, {\"PLAYER_NAME\": \"Klay Thompson\", \"GAME_DATE\": \"2022-06-08\", \"STAT\": \"BLK\", \"PREDICT\": 0.23008762316950332, \"LINE\": 0.5, \"OVER\": 110.0, \"UNDER\": -155.0, \"dff\": -0.5398247536609934}, {\"PLAYER_NAME\": \"Klay Thompson\", \"GAME_DATE\": \"2022-06-08\", \"STAT\": \"STL\", \"PREDICT\": 0.8708714480315666, \"LINE\": 0.5, \"OVER\": -180.0, \"UNDER\": 130.0, \"dff\": 0.7417428960631332}, {\"PLAYER_NAME\": \"Klay Thompson\", \"GAME_DATE\": \"2022-06-08\", \"STAT\": \"PR\", \"PREDICT\": null, \"LINE\": 22.5, \"OVER\": -130.0, \"UNDER\": -105.0, \"dff\": null}, {\"PLAYER_NAME\": \"Klay Thompson\", \"GAME_DATE\": \"2022-06-08\", \"STAT\": \"PA\", \"PREDICT\": null, \"LINE\": 21.5, \"OVER\": -110.0, \"UNDER\": -125.0, \"dff\": null}, {\"PLAYER_NAME\": \"Klay Thompson\", \"GAME_DATE\": \"2022-06-08\", \"STAT\": \"AR\", \"PREDICT\": null, \"LINE\": null, \"OVER\": null, \"UNDER\": null, \"dff\": null}, {\"PLAYER_NAME\": \"Klay Thompson\", \"GAME_DATE\": \"2022-06-08\", \"STAT\": \"SB\", \"PREDICT\": null, \"LINE\": 1.5, \"OVER\": 110.0, \"UNDER\": -150.0, \"dff\": null}, {\"PLAYER_NAME\": \"Klay Thompson\", \"GAME_DATE\": \"2022-06-08\", \"STAT\": \"PRA\", \"PREDICT\": null, \"LINE\": 25.5, \"OVER\": -105.0, \"UNDER\": -125.0, \"dff\": null}, {\"PLAYER_NAME\": \"Marcus Smart\", \"GAME_DATE\": \"2022-06-08\", \"STAT\": \"PTS\", \"PREDICT\": 15.104743059140377, \"LINE\": 13.5, \"OVER\": -105.0, \"UNDER\": -120.0, \"dff\": 0.11886985623262053}, {\"PLAYER_NAME\": \"Marcus Smart\", \"GAME_DATE\": \"2022-06-08\", \"STAT\": \"REB\", \"PREDICT\": 4.636865882772739, \"LINE\": 3.5, \"OVER\": -150.0, \"UNDER\": 115.0, \"dff\": 0.32481882364935394}, {\"PLAYER_NAME\": \"Marcus Smart\", \"GAME_DATE\": \"2022-06-08\", \"STAT\": \"AST\", \"PREDICT\": 3.63761840393712, \"LINE\": 5.5, \"OVER\": 115.0, \"UNDER\": -155.0, \"dff\": -0.3386148356477964}, {\"PLAYER_NAME\": \"Marcus Smart\", \"GAME_DATE\": \"2022-06-08\", \"STAT\": \"FG3M\", \"PREDICT\": 2.2760743734899176, \"LINE\": 1.5, \"OVER\": -200.0, \"UNDER\": 150.0, \"dff\": 0.5173829156599451}, {\"PLAYER_NAME\": \"Marcus Smart\", \"GAME_DATE\": \"2022-06-08\", \"STAT\": \"BLK\", \"PREDICT\": 0.34142552403589876, \"LINE\": 0.5, \"OVER\": 220.0, \"UNDER\": -320.0, \"dff\": -0.31714895192820247}, {\"PLAYER_NAME\": \"Marcus Smart\", \"GAME_DATE\": \"2022-06-08\", \"STAT\": \"STL\", \"PREDICT\": 1.1814047074585938, \"LINE\": 1.5, \"OVER\": 130.0, \"UNDER\": -175.0, \"dff\": -0.21239686169427077}, {\"PLAYER_NAME\": \"Marcus Smart\", \"GAME_DATE\": \"2022-06-08\", \"STAT\": \"PR\", \"PREDICT\": null, \"LINE\": 17.5, \"OVER\": -110.0, \"UNDER\": -120.0, \"dff\": null}, {\"PLAYER_NAME\": \"Marcus Smart\", \"GAME_DATE\": \"2022-06-08\", \"STAT\": \"PA\", \"PREDICT\": null, \"LINE\": 18.5, \"OVER\": -115.0, \"UNDER\": -115.0, \"dff\": null}, {\"PLAYER_NAME\": \"Marcus Smart\", \"GAME_DATE\": \"2022-06-08\", \"STAT\": \"AR\", \"PREDICT\": null, \"LINE\": 9.5, \"OVER\": 105.0, \"UNDER\": -145.0, \"dff\": null}, {\"PLAYER_NAME\": \"Marcus Smart\", \"GAME_DATE\": \"2022-06-08\", \"STAT\": \"SB\", \"PREDICT\": null, \"LINE\": 1.5, \"OVER\": -120.0, \"UNDER\": -110.0, \"dff\": null}, {\"PLAYER_NAME\": \"Marcus Smart\", \"GAME_DATE\": \"2022-06-08\", \"STAT\": \"PRA\", \"PREDICT\": null, \"LINE\": 22.5, \"OVER\": -115.0, \"UNDER\": -115.0, \"dff\": null}, {\"PLAYER_NAME\": \"Otto Porter Jr.\", \"GAME_DATE\": \"2022-06-08\", \"STAT\": \"PTS\", \"PREDICT\": 3.011553403912793, \"LINE\": 5.5, \"OVER\": 100.0, \"UNDER\": -125.0, \"dff\": -0.45244483565221943}, {\"PLAYER_NAME\": \"Otto Porter Jr.\", \"GAME_DATE\": \"2022-06-08\", \"STAT\": \"REB\", \"PREDICT\": 3.014811887650263, \"LINE\": 3.5, \"OVER\": -165.0, \"UNDER\": 125.0, \"dff\": -0.13862517495706772}, {\"PLAYER_NAME\": \"Otto Porter Jr.\", \"GAME_DATE\": \"2022-06-08\", \"STAT\": \"AST\", \"PREDICT\": 0.9070102366618094, \"LINE\": 0.5, \"OVER\": -225.0, \"UNDER\": 165.0, \"dff\": 0.8140204733236187}, {\"PLAYER_NAME\": \"Otto Porter Jr.\", \"GAME_DATE\": \"2022-06-08\", \"STAT\": \"FG3M\", \"PREDICT\": 0.7859921059172561, \"LINE\": 0.5, \"OVER\": -200.0, \"UNDER\": 150.0, \"dff\": 0.5719842118345122}, {\"PLAYER_NAME\": \"Otto Porter Jr.\", \"GAME_DATE\": \"2022-06-08\", \"STAT\": \"BLK\", \"PREDICT\": 0.28920931389726984, \"LINE\": 0.5, \"OVER\": 225.0, \"UNDER\": -330.0, \"dff\": -0.4215813722054603}, {\"PLAYER_NAME\": \"Otto Porter Jr.\", \"GAME_DATE\": \"2022-06-08\", \"STAT\": \"STL\", \"PREDICT\": 0.7206431002652186, \"LINE\": 0.5, \"OVER\": -170.0, \"UNDER\": 125.0, \"dff\": 0.4412862005304372}, {\"PLAYER_NAME\": \"Otto Porter Jr.\", \"GAME_DATE\": \"2022-06-08\", \"STAT\": \"PR\", \"PREDICT\": null, \"LINE\": 9.5, \"OVER\": -110.0, \"UNDER\": -125.0, \"dff\": null}, {\"PLAYER_NAME\": \"Otto Porter Jr.\", \"GAME_DATE\": \"2022-06-08\", \"STAT\": \"PA\", \"PREDICT\": null, \"LINE\": 6.5, \"OVER\": -105.0, \"UNDER\": -125.0, \"dff\": null}, {\"PLAYER_NAME\": \"Otto Porter Jr.\", \"GAME_DATE\": \"2022-06-08\", \"STAT\": \"AR\", \"PREDICT\": null, \"LINE\": 4.5, \"OVER\": -170.0, \"UNDER\": 125.0, \"dff\": null}, {\"PLAYER_NAME\": \"Otto Porter Jr.\", \"GAME_DATE\": \"2022-06-08\", \"STAT\": \"SB\", \"PREDICT\": null, \"LINE\": 1.5, \"OVER\": 165.0, \"UNDER\": -230.0, \"dff\": null}, {\"PLAYER_NAME\": \"Otto Porter Jr.\", \"GAME_DATE\": \"2022-06-08\", \"STAT\": \"PRA\", \"PREDICT\": null, \"LINE\": 10.5, \"OVER\": -110.0, \"UNDER\": -120.0, \"dff\": null}, {\"PLAYER_NAME\": \"Payton Pritchard\", \"GAME_DATE\": \"2022-06-08\", \"STAT\": \"PTS\", \"PREDICT\": 5.533728085267373, \"LINE\": 4.5, \"OVER\": -110.0, \"UNDER\": -115.0, \"dff\": 0.22971735228163837}, {\"PLAYER_NAME\": \"Payton Pritchard\", \"GAME_DATE\": \"2022-06-08\", \"STAT\": \"REB\", \"PREDICT\": 3.0901219997951266, \"LINE\": 1.5, \"OVER\": -110.0, \"UNDER\": -120.0, \"dff\": 1.0600813331967511}, {\"PLAYER_NAME\": \"Payton Pritchard\", \"GAME_DATE\": \"2022-06-08\", \"STAT\": \"AST\", \"PREDICT\": 1.0118352866803084, \"LINE\": 1.5, \"OVER\": 130.0, \"UNDER\": -170.0, \"dff\": -0.3254431422131277}, {\"PLAYER_NAME\": \"Payton Pritchard\", \"GAME_DATE\": \"2022-06-08\", \"STAT\": \"FG3M\", \"PREDICT\": 0.9649210568501296, \"LINE\": 0.5, \"OVER\": -185.0, \"UNDER\": 140.0, \"dff\": 0.9298421137002593}, {\"PLAYER_NAME\": \"Payton Pritchard\", \"GAME_DATE\": \"2022-06-08\", \"STAT\": \"BLK\", \"PREDICT\": 0.2652566385486079, \"LINE\": 0.5, \"OVER\": 700.0, \"UNDER\": -2000.0, \"dff\": -0.46948672290278415}, {\"PLAYER_NAME\": \"Payton Pritchard\", \"GAME_DATE\": \"2022-06-08\", \"STAT\": \"STL\", \"PREDICT\": 0.7176577367282604, \"LINE\": 0.5, \"OVER\": 185.0, \"UNDER\": -265.0, \"dff\": 0.4353154734565208}, {\"PLAYER_NAME\": \"Payton Pritchard\", \"GAME_DATE\": \"2022-06-08\", \"STAT\": \"PR\", \"PREDICT\": null, \"LINE\": 6.5, \"OVER\": -105.0, \"UNDER\": -130.0, \"dff\": null}, {\"PLAYER_NAME\": \"Payton Pritchard\", \"GAME_DATE\": \"2022-06-08\", \"STAT\": \"PA\", \"PREDICT\": null, \"LINE\": 5.5, \"OVER\": -125.0, \"UNDER\": -110.0, \"dff\": null}, {\"PLAYER_NAME\": \"Payton Pritchard\", \"GAME_DATE\": \"2022-06-08\", \"STAT\": \"AR\", \"PREDICT\": null, \"LINE\": 3.5, \"OVER\": 115.0, \"UNDER\": -155.0, \"dff\": null}, {\"PLAYER_NAME\": \"Payton Pritchard\", \"GAME_DATE\": \"2022-06-08\", \"STAT\": \"SB\", \"PREDICT\": null, \"LINE\": 0.5, \"OVER\": 145.0, \"UNDER\": -200.0, \"dff\": null}, {\"PLAYER_NAME\": \"Payton Pritchard\", \"GAME_DATE\": \"2022-06-08\", \"STAT\": \"PRA\", \"PREDICT\": null, \"LINE\": 7.5, \"OVER\": -115.0, \"UNDER\": -120.0, \"dff\": null}, {\"PLAYER_NAME\": \"Stephen Curry\", \"GAME_DATE\": \"2022-06-08\", \"STAT\": \"PTS\", \"PREDICT\": 23.681373142659325, \"LINE\": 28.5, \"OVER\": -110.0, \"UNDER\": -110.0, \"dff\": -0.169074626573357}, {\"PLAYER_NAME\": \"Stephen Curry\", \"GAME_DATE\": \"2022-06-08\", \"STAT\": \"REB\", \"PREDICT\": 4.550079459378121, \"LINE\": 5.5, \"OVER\": 120.0, \"UNDER\": -160.0, \"dff\": -0.17271282556761444}, {\"PLAYER_NAME\": \"Stephen Curry\", \"GAME_DATE\": \"2022-06-08\", \"STAT\": \"AST\", \"PREDICT\": 5.0645594272177075, \"LINE\": 5.5, \"OVER\": 110.0, \"UNDER\": -145.0, \"dff\": -0.0791710132331441}, {\"PLAYER_NAME\": \"Stephen Curry\", \"GAME_DATE\": \"2022-06-08\", \"STAT\": \"FG3M\", \"PREDICT\": 3.6970515341140175, \"LINE\": 4.5, \"OVER\": 100.0, \"UNDER\": -130.0, \"dff\": -0.1784329924191072}, {\"PLAYER_NAME\": \"Stephen Curry\", \"GAME_DATE\": \"2022-06-08\", \"STAT\": \"BLK\", \"PREDICT\": 0.4817059835222194, \"LINE\": 0.5, \"OVER\": 240.0, \"UNDER\": -360.0, \"dff\": -0.036588032955561234}, {\"PLAYER_NAME\": \"Stephen Curry\", \"GAME_DATE\": \"2022-06-08\", \"STAT\": \"STL\", \"PREDICT\": 1.2439242224385314, \"LINE\": 1.5, \"OVER\": 140.0, \"UNDER\": -190.0, \"dff\": -0.17071718504097907}, {\"PLAYER_NAME\": \"Stephen Curry\", \"GAME_DATE\": \"2022-06-08\", \"STAT\": \"PR\", \"PREDICT\": null, \"LINE\": 33.5, \"OVER\": -120.0, \"UNDER\": -110.0, \"dff\": null}, {\"PLAYER_NAME\": \"Stephen Curry\", \"GAME_DATE\": \"2022-06-08\", \"STAT\": \"PA\", \"PREDICT\": null, \"LINE\": 33.5, \"OVER\": -125.0, \"UNDER\": -110.0, \"dff\": null}, {\"PLAYER_NAME\": \"Stephen Curry\", \"GAME_DATE\": \"2022-06-08\", \"STAT\": \"AR\", \"PREDICT\": null, \"LINE\": 10.5, \"OVER\": -120.0, \"UNDER\": -115.0, \"dff\": null}, {\"PLAYER_NAME\": \"Stephen Curry\", \"GAME_DATE\": \"2022-06-08\", \"STAT\": \"SB\", \"PREDICT\": null, \"LINE\": 1.5, \"OVER\": -110.0, \"UNDER\": -125.0, \"dff\": null}, {\"PLAYER_NAME\": \"Stephen Curry\", \"GAME_DATE\": \"2022-06-08\", \"STAT\": \"PRA\", \"PREDICT\": null, \"LINE\": 39.5, \"OVER\": -110.0, \"UNDER\": -125.0, \"dff\": null}]}}, {\"mode\": \"vega-lite\"});\n",
       "</script>"
      ],
      "text/plain": [
       "alt.Chart(...)"
      ]
     },
     "execution_count": 8,
     "metadata": {},
     "output_type": "execute_result"
    }
   ],
   "source": [
    "best_bet_chart"
   ]
  },
  {
   "cell_type": "code",
   "execution_count": null,
   "metadata": {
    "pycharm": {
     "name": "#%%\n"
    }
   },
   "outputs": [],
   "source": []
  }
 ],
 "metadata": {
  "kernelspec": {
   "display_name": "Python 3 (ipykernel)",
   "language": "python",
   "name": "python3"
  },
  "language_info": {
   "codemirror_mode": {
    "name": "ipython",
    "version": 3
   },
   "file_extension": ".py",
   "mimetype": "text/x-python",
   "name": "python",
   "nbconvert_exporter": "python",
   "pygments_lexer": "ipython3",
   "version": "3.10.1"
  }
 },
 "nbformat": 4,
 "nbformat_minor": 1
}