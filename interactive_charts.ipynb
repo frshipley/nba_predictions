{
 "cells": [
  {
   "cell_type": "code",
   "execution_count": 3,
   "metadata": {
    "pycharm": {
     "name": "#%%\n"
    }
   },
   "outputs": [],
   "source": [
    "import pandas as pd\n",
    "import altair as alt\n",
    "from datetime import date\n",
    "import os"
   ]
  },
  {
   "cell_type": "code",
   "execution_count": null,
   "outputs": [],
   "source": [
    "!chmod +x update_data_logs.sh\n",
    "!./update_data_logs.sh"
   ],
   "metadata": {
    "collapsed": false,
    "pycharm": {
     "name": "#%%\n"
    }
   }
  },
  {
   "cell_type": "markdown",
   "source": [
    "## Altair code"
   ],
   "metadata": {
    "collapsed": false,
    "pycharm": {
     "name": "#%% md\n"
    }
   }
  },
  {
   "cell_type": "code",
   "execution_count": 5,
   "outputs": [],
   "source": [
    "url = os.path.join(os.path.curdir,\"logs\",\"predicted_stats.json\")\n",
    "data = pd.read_json(url)\n",
    "\n",
    "cutoff_path = os.path.join(os.path.curdir,\"logs\",\"season_cutoffs.pkl\")\n",
    "cutoffs = pd.read_pickle(cutoff_path)"
   ],
   "metadata": {
    "collapsed": false,
    "pycharm": {
     "name": "#%%\n"
    }
   }
  },
  {
   "cell_type": "code",
   "execution_count": 7,
   "outputs": [],
   "source": [
    "#player dropdown menu\n",
    "players = data.PLAYER_NAME.sort_values().unique()\n",
    "player_dropdown = alt.binding_select(\n",
    "    options=players,\n",
    "    name='Player: '\n",
    ")\n",
    "player_selection = alt.selection_single(\n",
    "    fields=['PLAYER_NAME'],\n",
    "    bind=player_dropdown,\n",
    "    init={'PLAYER_NAME':'RJ Barrett'}\n",
    ")\n",
    "\n",
    "#radio filter\n",
    "stat = ['PTS', 'REB', 'AST', 'FG3M', 'BLK', 'STL']\n",
    "stat_group = [[s, s+\"_PREDICT\"] for s in stat]\n",
    "\n",
    "stat_radio = alt.binding_radio(\n",
    "    options=stat_group,\n",
    "    name=\"Stat: \",\n",
    "    labels=stat\n",
    ")\n",
    "stat_selection = alt.selection_single(\n",
    "    fields=['MODEL'],\n",
    "    bind=stat_radio\n",
    ")\n",
    "\n",
    "#get season domain to limit initial plotting\n",
    "domain = [cutoffs.loc[cutoffs['PLAYOFFS']=='Regular Season']['start'].max(),\n",
    "          date.today().strftime(\"%Y-%m-%d\")]\n",
    "\n",
    "alt.data_transformers.disable_max_rows()\n",
    "\n",
    "#make chart of points (actual vs. predicted)\n",
    "chart = (\n",
    "    alt.Chart(data, title='Actual vs. Predicted Points')\n",
    "    .mark_line(point=True)\n",
    "    .encode(\n",
    "        x = alt.X('GAME_DATE:T', title='Game date', timeUnit='yearmonthdate', scale=alt.Scale(domain=domain)),\n",
    "        y = alt.Y('VALUE:Q', title='Points'),\n",
    "        color = 'MODEL:N',\n",
    "        tooltip=['PLAYER_NAME:N','MODEL:N','VALUE:Q', 'GAME_DATE:T', 'OPPONENT:N']\n",
    "    )\n",
    "    .add_selection(player_selection)\n",
    "    .transform_filter(player_selection)\n",
    "    .add_selection(stat_selection)\n",
    "    .transform_filter(stat_selection)\n",
    "    .interactive()\n",
    ")\n",
    "\n",
    "#make chart of playoff vs. regular season regions to overlay\n",
    "\n",
    "playoffs = (\n",
    "    alt.Chart(cutoffs)\n",
    "    .mark_rect(opacity=0.15)\n",
    "    .encode(\n",
    "        x='start:T',\n",
    "        x2 = 'stop:T',\n",
    "        y=alt.value(0),\n",
    "        y2=alt.value(300),\n",
    "        color=alt.Color('PLAYOFFS:N', legend=alt.Legend(title=\"Legend\"))\n",
    "    )\n",
    ")\n",
    "\n",
    "final_chart = alt.layer(\n",
    "    chart,\n",
    "    playoffs\n",
    ").properties(width=800, height=300)"
   ],
   "metadata": {
    "collapsed": false,
    "pycharm": {
     "name": "#%%\n"
    }
   }
  },
  {
   "cell_type": "markdown",
   "source": [
    "## Past performance chart"
   ],
   "metadata": {
    "collapsed": false,
    "pycharm": {
     "name": "#%% md\n"
    }
   }
  },
  {
   "cell_type": "code",
   "execution_count": null,
   "outputs": [],
   "source": [
    "final_chart"
   ],
   "metadata": {
    "collapsed": false,
    "pycharm": {
     "name": "#%%\n",
     "is_executing": true
    }
   }
  },
  {
   "cell_type": "markdown",
   "source": [
    "# BEST BET FOR UPCOMING GAME"
   ],
   "metadata": {
    "collapsed": false,
    "pycharm": {
     "name": "#%% md\n"
    }
   }
  },
  {
   "cell_type": "markdown",
   "source": [
    "## Altair code"
   ],
   "metadata": {
    "collapsed": false,
    "pycharm": {
     "name": "#%% md\n"
    }
   }
  },
  {
   "cell_type": "code",
   "execution_count": null,
   "outputs": [],
   "source": [
    "best_bet_path = os.path.join(os.path.curdir, \"logs\", f\"best_bet.pkl\")\n",
    "df = pd.read_pickle(best_bet_path)\n",
    "\n",
    "#radio filter\n",
    "stat = ['PTS', 'REB', 'AST', 'FG3M', 'BLK', 'STL']\n",
    "\n",
    "stat_radio = alt.binding_radio(\n",
    "    options=stat_group,\n",
    "    name=\"Stat: \",\n",
    "    labels=stat\n",
    ")\n",
    "stat_selection = alt.selection_single(\n",
    "    fields=['STAT'],\n",
    "    bind=stat_radio,\n",
    "    init={'STAT':'PTS'}\n",
    ")\n",
    "\n",
    "#make bar chart\n",
    "best_bet_chart = (\n",
    "    alt.Chart(df, title=\"Best bet predictor\")\n",
    "    .mark_bar()\n",
    "    .encode(\n",
    "        x=alt.X(\"PLAYER_NAME:N\", sort='y', title='Player'),\n",
    "        y=alt.Y(\"dff:Q\", title='Score'),\n",
    "        color=alt.condition(\n",
    "            alt.datum.dff > 0,\n",
    "            alt.value(\"steelblue\"),\n",
    "            alt.value(\"orange\")\n",
    "        ),\n",
    "        tooltip=[\"GAME_DATE:T\",\"LINE:Q\",\"PREDICT:Q\"]\n",
    "    )\n",
    "    .add_selection(stat_selection)\n",
    "    .transform_filter(stat_selection)\n",
    "    .properties(width=400,height=300)\n",
    ")"
   ],
   "metadata": {
    "collapsed": false,
    "pycharm": {
     "name": "#%%\n"
    }
   }
  },
  {
   "cell_type": "markdown",
   "source": [
    "## BEST BET CHART"
   ],
   "metadata": {
    "collapsed": false,
    "pycharm": {
     "name": "#%% md\n"
    }
   }
  },
  {
   "cell_type": "code",
   "execution_count": null,
   "outputs": [],
   "source": [
    "best_bet_chart"
   ],
   "metadata": {
    "collapsed": false,
    "pycharm": {
     "name": "#%%\n"
    }
   }
  }
 ],
 "metadata": {
  "kernelspec": {
   "display_name": "Python 3 (ipykernel)",
   "language": "python",
   "name": "python3"
  },
  "language_info": {
   "codemirror_mode": {
    "name": "ipython",
    "version": 3
   },
   "file_extension": ".py",
   "mimetype": "text/x-python",
   "name": "python",
   "nbconvert_exporter": "python",
   "pygments_lexer": "ipython3",
   "version": "3.10.1"
  }
 },
 "nbformat": 4,
 "nbformat_minor": 1
}