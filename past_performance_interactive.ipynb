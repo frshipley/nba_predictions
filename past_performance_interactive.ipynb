{
 "cells": [
  {
   "cell_type": "code",
   "execution_count": 1,
   "metadata": {
    "pycharm": {
     "name": "#%%\n"
    }
   },
   "outputs": [],
   "source": [
    "import pandas as pd\n",
    "import altair as alt\n",
    "from datetime import date"
   ]
  },
  {
   "cell_type": "code",
   "execution_count": 2,
   "metadata": {
    "pycharm": {
     "name": "#%%\n"
    }
   },
   "outputs": [],
   "source": [
    "cutoffs = pd.read_pickle(f\"./logs/season_cutoffs\")\n",
    "url=f\"./logs/predicted_stats.json\""
   ]
  },
  {
   "cell_type": "code",
   "execution_count": 3,
   "metadata": {
    "pycharm": {
     "name": "#%%\n"
    }
   },
   "outputs": [],
   "source": [
    "#player dropdown menu\n",
    "players = pd.read_pickle(f\"./logs/eligible_players.pkl\")\n",
    "players = players.PLAYER_NAME.sort_values().unique()\n",
    "player_dropdown = alt.binding_select(\n",
    "    options=players,\n",
    "    name='Player: '\n",
    ")\n",
    "player_selection = alt.selection_single(\n",
    "    fields=['PLAYER_NAME'],\n",
    "    bind=player_dropdown,\n",
    "    init={'PLAYER_NAME':'RJ Barrett'}\n",
    ")\n",
    "\n",
    "#radio filter\n",
    "stat = ['PTS', 'REB', 'AST', 'FG3M', 'BLK', 'STL']\n",
    "stat_group = [[s, s+\"_PREDICT\"] for s in stat]\n",
    "\n",
    "stat_radio = alt.binding_radio(\n",
    "    options=stat_group,\n",
    "    name=\"Stat: \",\n",
    "    labels=stat\n",
    ")\n",
    "stat_selection = alt.selection_single(\n",
    "    fields=['MODEL'],\n",
    "    bind=stat_radio\n",
    ")\n",
    "\n",
    "#get season domain to limit initial plotting\n",
    "domain = [cutoffs.loc[cutoffs['PLAYOFFS']=='Regular Season']['start'].max(),\n",
    "          date.today().strftime(\"%Y-%m-%d\")]\n",
    "\n",
    "#make chart of points (actual vs. predicted)\n",
    "chart = (\n",
    "    alt.Chart(url, title='Actual vs. Predicted Points')\n",
    "    .mark_line(point=True)\n",
    "    .encode(\n",
    "        x = alt.X('GAME_DATE:T', title='Game date', timeUnit='yearmonthdate', scale=alt.Scale(domain=domain)),\n",
    "        y = alt.Y('VALUE:Q', title='Points'),\n",
    "        color = 'MODEL:N',\n",
    "        tooltip=['PLAYER_NAME:N','MODEL:N','VALUE:Q', 'GAME_DATE:T', 'OPPONENT:N']\n",
    "    )\n",
    "    .add_selection(player_selection)\n",
    "    .transform_filter(player_selection)\n",
    "    .add_selection(stat_selection)\n",
    "    .transform_filter(stat_selection)\n",
    "    .interactive()\n",
    ")\n",
    "\n",
    "#make chart of playoff vs. regular season regions to overlay\n",
    "\n",
    "playoffs = (\n",
    "    alt.Chart(cutoffs)\n",
    "    .mark_rect(opacity=0.15)\n",
    "    .encode(\n",
    "        x='start:T',\n",
    "        x2 = 'stop:T',\n",
    "        y=alt.value(0),\n",
    "        y2=alt.value(300),\n",
    "        color=alt.Color('PLAYOFFS:N', legend=alt.Legend(title=\"Legend\"))\n",
    "    )\n",
    ")\n",
    "\n",
    "#chart.properties(width=800, height=300).interactive() + playoffs.properties(width=800, height=300)\n",
    "\n",
    "final_chart = alt.layer(\n",
    "    chart,\n",
    "    playoffs\n",
    ").properties(width=800, height=300)"
   ]
  },
  {
   "cell_type": "code",
   "execution_count": 4,
   "metadata": {
    "pycharm": {
     "name": "#%%\n"
    }
   },
   "outputs": [
    {
     "data": {
      "text/html": [
       "\n",
       "<div id=\"altair-viz-b27a978c1db24c5489c25a506eb8785f\"></div>\n",
       "<script type=\"text/javascript\">\n",
       "  var VEGA_DEBUG = (typeof VEGA_DEBUG == \"undefined\") ? {} : VEGA_DEBUG;\n",
       "  (function(spec, embedOpt){\n",
       "    let outputDiv = document.currentScript.previousElementSibling;\n",
       "    if (outputDiv.id !== \"altair-viz-b27a978c1db24c5489c25a506eb8785f\") {\n",
       "      outputDiv = document.getElementById(\"altair-viz-b27a978c1db24c5489c25a506eb8785f\");\n",
       "    }\n",
       "    const paths = {\n",
       "      \"vega\": \"https://cdn.jsdelivr.net/npm//vega@5?noext\",\n",
       "      \"vega-lib\": \"https://cdn.jsdelivr.net/npm//vega-lib?noext\",\n",
       "      \"vega-lite\": \"https://cdn.jsdelivr.net/npm//vega-lite@4.17.0?noext\",\n",
       "      \"vega-embed\": \"https://cdn.jsdelivr.net/npm//vega-embed@6?noext\",\n",
       "    };\n",
       "\n",
       "    function maybeLoadScript(lib, version) {\n",
       "      var key = `${lib.replace(\"-\", \"\")}_version`;\n",
       "      return (VEGA_DEBUG[key] == version) ?\n",
       "        Promise.resolve(paths[lib]) :\n",
       "        new Promise(function(resolve, reject) {\n",
       "          var s = document.createElement('script');\n",
       "          document.getElementsByTagName(\"head\")[0].appendChild(s);\n",
       "          s.async = true;\n",
       "          s.onload = () => {\n",
       "            VEGA_DEBUG[key] = version;\n",
       "            return resolve(paths[lib]);\n",
       "          };\n",
       "          s.onerror = () => reject(`Error loading script: ${paths[lib]}`);\n",
       "          s.src = paths[lib];\n",
       "        });\n",
       "    }\n",
       "\n",
       "    function showError(err) {\n",
       "      outputDiv.innerHTML = `<div class=\"error\" style=\"color:red;\">${err}</div>`;\n",
       "      throw err;\n",
       "    }\n",
       "\n",
       "    function displayChart(vegaEmbed) {\n",
       "      vegaEmbed(outputDiv, spec, embedOpt)\n",
       "        .catch(err => showError(`Javascript Error: ${err.message}<br>This usually means there's a typo in your chart specification. See the javascript console for the full traceback.`));\n",
       "    }\n",
       "\n",
       "    if(typeof define === \"function\" && define.amd) {\n",
       "      requirejs.config({paths});\n",
       "      require([\"vega-embed\"], displayChart, err => showError(`Error loading script: ${err.message}`));\n",
       "    } else {\n",
       "      maybeLoadScript(\"vega\", \"5\")\n",
       "        .then(() => maybeLoadScript(\"vega-lite\", \"4.17.0\"))\n",
       "        .then(() => maybeLoadScript(\"vega-embed\", \"6\"))\n",
       "        .catch(showError)\n",
       "        .then(() => displayChart(vegaEmbed));\n",
       "    }\n",
       "  })({\"config\": {\"view\": {\"continuousWidth\": 400, \"continuousHeight\": 300}}, \"layer\": [{\"data\": {\"url\": \"./logs/predicted_stats.json\"}, \"mark\": {\"type\": \"line\", \"point\": true}, \"encoding\": {\"color\": {\"field\": \"MODEL\", \"type\": \"nominal\"}, \"tooltip\": [{\"field\": \"PLAYER_NAME\", \"type\": \"nominal\"}, {\"field\": \"MODEL\", \"type\": \"nominal\"}, {\"field\": \"VALUE\", \"type\": \"quantitative\"}, {\"field\": \"GAME_DATE\", \"type\": \"temporal\"}, {\"field\": \"OPPONENT\", \"type\": \"nominal\"}], \"x\": {\"field\": \"GAME_DATE\", \"scale\": {\"domain\": [\"2021-10-19\", \"2022-06-09\"]}, \"timeUnit\": \"yearmonthdate\", \"title\": \"Game date\", \"type\": \"temporal\"}, \"y\": {\"field\": \"VALUE\", \"title\": \"Points\", \"type\": \"quantitative\"}}, \"selection\": {\"selector001\": {\"type\": \"single\", \"fields\": [\"PLAYER_NAME\"], \"bind\": {\"input\": \"select\", \"options\": [\"Aaron Gordon\", \"Aaron Holiday\", \"Aaron Nesmith\", \"Aaron Wiggins\", \"Al Horford\", \"Alec Burks\", \"Aleksej Pokusevski\", \"Alex Caruso\", \"Alex Len\", \"Alperen Sengun\", \"Amir Coffey\", \"Andre Drummond\", \"Andre Iguodala\", \"Andrew Wiggins\", \"Anfernee Simons\", \"Anthony Davis\", \"Anthony Edwards\", \"Armoni Brooks\", \"Austin Reaves\", \"Austin Rivers\", \"Avery Bradley\", \"Ayo Dosunmu\", \"Bam Adebayo\", \"Ben McLemore\", \"Bismack Biyombo\", \"Blake Griffin\", \"Bobby Portis\", \"Bogdan Bogdanovic\", \"Bojan Bogdanovic\", \"Bones Hyland\", \"Bradley Beal\", \"Brandon Boston Jr.\", \"Brandon Clarke\", \"Brandon Goodwin\", \"Brandon Ingram\", \"Bruce Brown\", \"Bryn Forbes\", \"Buddy Hield\", \"CJ Elleby\", \"CJ McCollum\", \"Cade Cunningham\", \"Caleb Martin\", \"Cam Reddish\", \"Cam Thomas\", \"Cameron Johnson\", \"Cameron Payne\", \"Caris LeVert\", \"Carmelo Anthony\", \"Cedi Osman\", \"Chimezie Metu\", \"Chris Boucher\", \"Chris Duarte\", \"Chris Paul\", \"Christian Wood\", \"Chuma Okeke\", \"Clint Capela\", \"Coby White\", \"Cody Martin\", \"Cole Anthony\", \"Corey Kispert\", \"Cory Joseph\", \"D'Angelo Russell\", \"D.J. Augustin\", \"Dalano Banton\", \"Damian Jones\", \"Damion Lee\", \"Daniel Gafford\", \"Daniel Theis\", \"Danilo Gallinari\", \"Danny Green\", \"Danuel House Jr.\", \"Darius Bazley\", \"Darius Garland\", \"David Nwaba\", \"Davion Mitchell\", \"Davis Bertans\", \"Davon Reed\", \"De'Aaron Fox\", \"De'Andre Hunter\", \"De'Anthony Melton\", \"DeAndre Jordan\", \"DeAndre' Bembry\", \"DeMar DeRozan\", \"DeMarcus Cousins\", \"Dean Wade\", \"Deandre Ayton\", \"Dejounte Murray\", \"Delon Wright\", \"Deni Avdija\", \"Dennis Schroder\", \"Dennis Smith Jr.\", \"Derrick Favors\", \"Derrick Jones Jr.\", \"Derrick White\", \"Desmond Bane\", \"Devin Booker\", \"Devin Vassell\", \"Devonte' Graham\", \"Dewayne Dedmon\", \"Dillon Brooks\", \"Domantas Sabonis\", \"Donovan Mitchell\", \"Donte DiVincenzo\", \"Dorian Finney-Smith\", \"Doug McDermott\", \"Draymond Green\", \"Drew Eubanks\", \"Duane Washington Jr.\", \"Duncan Robinson\", \"Dwight Howard\", \"Dwight Powell\", \"Elfrid Payton\", \"Eric Bledsoe\", \"Eric Gordon\", \"Eric Paschall\", \"Evan Fournier\", \"Evan Mobley\", \"Facundo Campazzo\", \"Frank Jackson\", \"Frank Ntilikina\", \"Franz Wagner\", \"Fred VanVleet\", \"Furkan Korkmaz\", \"Gabe Vincent\", \"Garrett Temple\", \"Garrison Mathews\", \"Gary Harris\", \"Gary Payton II\", \"Gary Trent Jr.\", \"George Hill\", \"Georges Niang\", \"Giannis Antetokounmpo\", \"Goga Bitadze\", \"Gordon Hayward\", \"Grant Williams\", \"Grayson Allen\", \"Greg Brown III\", \"Hamidou Diallo\", \"Harrison Barnes\", \"Hassan Whiteside\", \"Herbert Jones\", \"Ignas Brazdeikis\", \"Immanuel Quickley\", \"Isaac Okoro\", \"Isaiah Hartenstein\", \"Isaiah Jackson\", \"Isaiah Joe\", \"Isaiah Roby\", \"Isaiah Stewart\", \"Ish Smith\", \"Ivica Zubac\", \"Ja Morant\", \"JaMychal Green\", \"JaVale McGee\", \"Jaden McDaniels\", \"Jae Crowder\", \"Jae'Sean Tate\", \"Jakob Poeltl\", \"Jalen Brunson\", \"Jalen Green\", \"Jalen McDaniels\", \"Jalen Smith\", \"Jalen Suggs\", \"James Harden\", \"James Johnson\", \"Jaren Jackson Jr.\", \"Jarred Vanderbilt\", \"Jarrett Allen\", \"Javonte Green\", \"Jaxson Hayes\", \"Jaylen Brown\", \"Jaylen Nowell\", \"Jayson Tatum\", \"Jeff Green\", \"Jerami Grant\", \"Jeremiah Robinson-Earl\", \"Jeremy Lamb\", \"Jericho Sims\", \"Jevon Carter\", \"Jimmy Butler\", \"Jock Landale\", \"Joe Ingles\", \"Joel Embiid\", \"John Collins\", \"John Konchar\", \"Jonas Valanciunas\", \"Jonathan Kuminga\", \"Jordan Clarkson\", \"Jordan McLaughlin\", \"Jordan Nwora\", \"Jordan Poole\", \"Jose Alvarado\", \"Josh Christopher\", \"Josh Giddey\", \"Josh Green\", \"Josh Hart\", \"Josh Jackson\", \"Josh Okogie\", \"Josh Richardson\", \"Joshua Primo\", \"Jrue Holiday\", \"Juan Toscano-Anderson\", \"Julius Randle\", \"Justin Holiday\", \"Justise Winslow\", \"Jusuf Nurkic\", \"Karl-Anthony Towns\", \"Keifer Sykes\", \"Keita Bates-Diop\", \"Keldon Johnson\", \"Kelly Olynyk\", \"Kelly Oubre Jr.\", \"Kemba Walker\", \"Kenrich Williams\", \"Kent Bazemore\", \"Kentavious Caldwell-Pope\", \"Kenyon Martin Jr.\", \"Keon Johnson\", \"Kessler Edwards\", \"Kevin Durant\", \"Kevin Huerter\", \"Kevin Love\", \"Kevin Porter Jr.\", \"Kevon Looney\", \"Khem Birch\", \"Khris Middleton\", \"Killian Hayes\", \"Klay Thompson\", \"Kristaps Porzingis\", \"Kyle Anderson\", \"Kyle Kuzma\", \"Kyle Lowry\", \"LaMarcus Aldridge\", \"LaMelo Ball\", \"Lamar Stevens\", \"Lance Stephenson\", \"Landry Shamet\", \"Larry Nance Jr.\", \"Lauri Markkanen\", \"LeBron James\", \"Lonnie Walker IV\", \"Lonzo Ball\", \"Lou Williams\", \"Luguentz Dort\", \"Luka Doncic\", \"Luke Kennard\", \"Malachi Flynn\", \"Malcolm Brogdon\", \"Malik Beasley\", \"Malik Monk\", \"Marcus Morris Sr.\", \"Marcus Smart\", \"Marvin Bagley III\", \"Mason Plumlee\", \"Matisse Thybulle\", \"Maurice Harkless\", \"Max Strus\", \"Maxi Kleber\", \"Mikal Bridges\", \"Mike Conley\", \"Mike Muscala\", \"Miles Bridges\", \"Mitchell Robinson\", \"Mo Bamba\", \"Monte Morris\", \"Montrezl Harrell\", \"Moritz Wagner\", \"Moses Moody\", \"Myles Turner\", \"Naji Marshall\", \"Nassir Little\", \"Naz Reid\", \"Nemanja Bjelica\", \"Nic Claxton\", \"Nickeil Alexander-Walker\", \"Nicolas Batum\", \"Nikola Jokic\", \"Nikola Vucevic\", \"Norman Powell\", \"OG Anunoby\", \"Obi Toppin\", \"Omer Yurtseven\", \"Onyeka Okongwu\", \"Oshae Brissett\", \"Otto Porter Jr.\", \"P.J. Tucker\", \"P.J. Washington\", \"Pascal Siakam\", \"Pat Connaughton\", \"Patrick Beverley\", \"Patty Mills\", \"Paul George\", \"Payton Pritchard\", \"Precious Achiuwa\", \"Quentin Grimes\", \"R.J. Hampton\", \"RJ Barrett\", \"Rajon Rondo\", \"Raul Neto\", \"Reggie Bullock\", \"Reggie Jackson\", \"Richaun Holmes\", \"Ricky Rubio\", \"Robert Covington\", \"Robert Williams III\", \"Robin Lopez\", \"Rodney Hood\", \"Rodney McGruder\", \"Romeo Langford\", \"Royce O'Neale\", \"Rudy Gay\", \"Rudy Gobert\", \"Rui Hachimura\", \"Russell Westbrook\", \"Saben Lee\", \"Saddiq Bey\", \"Scottie Barnes\", \"Serge Ibaka\", \"Seth Curry\", \"Shai Gilgeous-Alexander\", \"Shake Milton\", \"Spencer Dinwiddie\", \"Stanley Johnson\", \"Stephen Curry\", \"Sterling Brown\", \"Steven Adams\", \"Svi Mykhailiuk\", \"Taj Gibson\", \"Talen Horton-Tucker\", \"Taurean Prince\", \"Terance Mann\", \"Terence Davis\", \"Terrence Ross\", \"Terry Rozier\", \"Terry Taylor\", \"Thaddeus Young\", \"Theo Maledon\", \"Tim Hardaway Jr.\", \"Timothe Luwawu-Cabarrot\", \"Tobias Harris\", \"Tomas Satoransky\", \"Tony Bradley\", \"Tony Snell\", \"Torrey Craig\", \"Trae Young\", \"Tre Jones\", \"Tre Mann\", \"Trendon Watford\", \"Trent Forrest\", \"Trey Lyles\", \"Trey Murphy III\", \"Tristan Thompson\", \"Troy Brown Jr.\", \"Ty Jerome\", \"Tyler Herro\", \"Tyrese Haliburton\", \"Tyrese Maxey\", \"Tyus Jones\", \"Vit Krejci\", \"Wayne Ellington\", \"Wendell Carter Jr.\", \"Wesley Matthews\", \"Will Barton\", \"Willy Hernangomez\", \"Xavier Tillman\", \"Zach LaVine\", \"Zeke Nnaji\", \"Ziaire Williams\"], \"name\": \"Player: \"}, \"init\": {\"PLAYER_NAME\": \"RJ Barrett\"}}, \"selector002\": {\"type\": \"single\", \"fields\": [\"MODEL\"], \"bind\": {\"input\": \"radio\", \"options\": [[\"PTS\", \"PTS_PREDICT\"], [\"REB\", \"REB_PREDICT\"], [\"AST\", \"AST_PREDICT\"], [\"FG3M\", \"FG3M_PREDICT\"], [\"BLK\", \"BLK_PREDICT\"], [\"STL\", \"STL_PREDICT\"]], \"labels\": [\"PTS\", \"REB\", \"AST\", \"FG3M\", \"BLK\", \"STL\"], \"name\": \"Stat: \"}}, \"selector003\": {\"type\": \"interval\", \"bind\": \"scales\", \"encodings\": [\"x\", \"y\"]}}, \"title\": \"Actual vs. Predicted Points\", \"transform\": [{\"filter\": {\"selection\": \"selector001\"}}, {\"filter\": {\"selection\": \"selector002\"}}]}, {\"data\": {\"name\": \"data-2b5554dff0877026f24ede080ded6dcd\"}, \"mark\": {\"type\": \"rect\", \"opacity\": 0.15}, \"encoding\": {\"color\": {\"field\": \"PLAYOFFS\", \"legend\": {\"title\": \"Legend\"}, \"type\": \"nominal\"}, \"x\": {\"field\": \"start\", \"type\": \"temporal\"}, \"x2\": {\"field\": \"stop\"}, \"y\": {\"value\": 0}, \"y2\": {\"value\": 300}}}], \"height\": 300, \"width\": 800, \"$schema\": \"https://vega.github.io/schema/vega-lite/v4.17.0.json\", \"datasets\": {\"data-2b5554dff0877026f24ede080ded6dcd\": [{\"SEASON_ID\": \"22018\", \"PLAYOFFS\": \"Regular Season\", \"start\": \"2018-10-16\", \"stop\": \"2019-04-10\"}, {\"SEASON_ID\": \"22019\", \"PLAYOFFS\": \"Regular Season\", \"start\": \"2019-10-22\", \"stop\": \"2020-08-14\"}, {\"SEASON_ID\": \"22020\", \"PLAYOFFS\": \"Regular Season\", \"start\": \"2020-12-22\", \"stop\": \"2021-05-16\"}, {\"SEASON_ID\": \"22021\", \"PLAYOFFS\": \"Regular Season\", \"start\": \"2021-10-19\", \"stop\": \"2022-04-10\"}, {\"SEASON_ID\": \"42018\", \"PLAYOFFS\": \"Playoffs\", \"start\": \"2019-04-13\", \"stop\": \"2019-06-13\"}, {\"SEASON_ID\": \"42019\", \"PLAYOFFS\": \"Playoffs\", \"start\": \"2020-08-17\", \"stop\": \"2020-10-11\"}, {\"SEASON_ID\": \"42020\", \"PLAYOFFS\": \"Playoffs\", \"start\": \"2021-05-22\", \"stop\": \"2021-07-20\"}, {\"SEASON_ID\": \"42021\", \"PLAYOFFS\": \"Playoffs\", \"start\": \"2022-04-16\", \"stop\": \"2022-06-05\"}]}}, {\"mode\": \"vega-lite\"});\n",
       "</script>"
      ],
      "text/plain": [
       "alt.LayerChart(...)"
      ]
     },
     "execution_count": 4,
     "metadata": {},
     "output_type": "execute_result"
    }
   ],
   "source": [
    "final_chart"
   ]
  },
  {
   "cell_type": "code",
   "execution_count": null,
   "metadata": {
    "pycharm": {
     "name": "#%%\n"
    }
   },
   "outputs": [],
   "source": []
  }
 ],
 "metadata": {
  "kernelspec": {
   "display_name": "Python 3 (ipykernel)",
   "language": "python",
   "name": "python3"
  },
  "language_info": {
   "codemirror_mode": {
    "name": "ipython",
    "version": 3
   },
   "file_extension": ".py",
   "mimetype": "text/x-python",
   "name": "python",
   "nbconvert_exporter": "python",
   "pygments_lexer": "ipython3",
   "version": "3.10.1"
  }
 },
 "nbformat": 4,
 "nbformat_minor": 1
}
