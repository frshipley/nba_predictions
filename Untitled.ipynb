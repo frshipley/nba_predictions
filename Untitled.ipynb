{
 "cells": [
  {
   "cell_type": "code",
   "execution_count": null,
   "id": "ea383a97",
   "metadata": {},
   "outputs": [],
   "source": [
    "class ShiftStats(BaseEstimator, TransformerMixin):\n",
    "    def __init__(self,stats, shiftwidth=1):\n",
    "        self.stats = stats\n",
    "        self.shiftwidth = shiftwidth\n",
    "    \n",
    "    def fit(self, X, y=None):\n",
    "        return self\n",
    "    \n",
    "    def transform(self,X):\n",
    "        stats_shifted = X[['PLAYER_ID']+self.stats].groupby(['PLAYER_ID']).shift(self.shiftwidth)\n",
    "        return stats_shifted"
   ]
  },
  {
   "cell_type": "code",
   "execution_count": null,
   "id": "aa9173d2",
   "metadata": {},
   "outputs": [],
   "source": [
    "class MakeCumulativeStats(BaseEstimator, TransformerMixin):\n",
    "\n",
    "    def __init__(self, stats, window = 4):\n",
    "        self.stats = stats\n",
    "        self.window = window\n",
    "        \n",
    "    def fit(self, X, y=None):\n",
    "        self.game_number = X[['PLAYER_ID']].groupby(['PLAYER_ID']).cumcount() + 1\n",
    "        return self\n",
    "    \n",
    "    def transform(self, X):\n",
    "        df = pd.DataFrame()\n",
    "        for stat in self.stats:\n",
    "           \n",
    "            #make cumulative sum of counting stats and divide by game number\n",
    "            df[stat+'_AVG'] = X[['PLAYER_ID',stat]].groupby(['PLAYER_ID']).cumsum()\n",
    "            df[stat+'_AVG'] = df[stat+'_AVG'] / self.game_number\n",
    "            \n",
    "            #make rolling average of counting stats. Uses a window of 4 games, and a Gaussian window with std 3 weight\n",
    "            temp = (X[['PLAYER_ID',stat]]\n",
    "                    .groupby(['PLAYER_ID'])\n",
    "                    .rolling(self.window, min_periods=1, win_type='gaussian', closed='left')\n",
    "                    .mean(std=3)\n",
    "                   )\n",
    "            \n",
    "            df[stat+'_RECENT'] = temp.reset_index(level=0)[stat]\n",
    "        return df"
   ]
  },
  {
   "cell_type": "code",
   "execution_count": null,
   "id": "33cee5d0",
   "metadata": {},
   "outputs": [],
   "source": [
    "class MakeOpponentStats(BaseEstimator, TransformerMixin):\n",
    "    def __init__(self, stats, window = 3):\n",
    "        self.stats = stats\n",
    "        self.window = window\n",
    "    \n",
    "    def fit(self, X, y=None):\n",
    "        self.game_number = X[['PLAYER_ID']].groupby(['PLAYER_ID']).cumcount() + 1\n",
    "        return self\n",
    "    \n",
    "    def transform(self,X):\n",
    "        df = pd.DataFrame()\n",
    "        for stat in self.stats:\n",
    "            #last matchup against opponent\n",
    "            temp = (X[['PLAYER_ID','OPPONENT', stat]]\n",
    "                    .groupby(['PLAYER_ID','OPPONENT'])\n",
    "                    .rolling(1,min_periods=1,closed='left')\n",
    "                    .mean()\n",
    "                   ) \n",
    "                    \n",
    "            df[stat+'_PREV_VS_OPP'] = temp.reset_index(level=[0,1])[stat] #reset multilevel indices\n",
    "\n",
    "            #avg 3 past matchups against opponent\n",
    "            temp = (X[['PLAYER_ID','OPPONENT', stat]]\n",
    "                    .groupby(['PLAYER_ID','OPPONENT'])\n",
    "                    .rolling(self.window,min_periods=1,closed='left')\n",
    "                    .mean()\n",
    "                   )\n",
    "            \n",
    "            df[stat+'_PREV3_VS_OPP'] = temp.reset_index(level=[0,1])[stat]\n",
    "            \n",
    "        return df"
   ]
  }
 ],
 "metadata": {
  "kernelspec": {
   "display_name": "Python 3 (ipykernel)",
   "language": "python",
   "name": "python3"
  },
  "language_info": {
   "codemirror_mode": {
    "name": "ipython",
    "version": 3
   },
   "file_extension": ".py",
   "mimetype": "text/x-python",
   "name": "python",
   "nbconvert_exporter": "python",
   "pygments_lexer": "ipython3",
   "version": "3.10.1"
  }
 },
 "nbformat": 4,
 "nbformat_minor": 5
}
