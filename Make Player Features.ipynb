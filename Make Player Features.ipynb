{
 "cells": [
  {
   "cell_type": "markdown",
   "id": "025a1283",
   "metadata": {},
   "source": [
    "## MAKING FEATURE FROM PLAYER NAME"
   ]
  },
  {
   "cell_type": "markdown",
   "id": "fb86633f",
   "metadata": {},
   "source": [
    "gradient boosting, random forest, maybe deep learning, linear model with lots of features"
   ]
  },
  {
   "cell_type": "code",
   "execution_count": 1,
   "id": "345f5636",
   "metadata": {},
   "outputs": [],
   "source": [
    "import numpy as np\n",
    "import pandas as pd\n",
    "import matplotlib.pyplot as plt\n",
    "from datetime import datetime\n",
    "from datetime import timedelta"
   ]
  },
  {
   "cell_type": "code",
   "execution_count": 2,
   "id": "301e7f5e",
   "metadata": {},
   "outputs": [],
   "source": [
    "from nba_api.stats.static import teams\n",
    "from nba_api.stats.static import players\n",
    "from nba_api.stats.endpoints import playergamelogs\n",
    "from nba_api.stats.endpoints import playerdashboardbyopponent"
   ]
  },
  {
   "cell_type": "markdown",
   "id": "c09e990b",
   "metadata": {},
   "source": [
    "Get player ID and info based on their name"
   ]
  },
  {
   "cell_type": "code",
   "execution_count": 3,
   "id": "b10f8cac",
   "metadata": {},
   "outputs": [],
   "source": [
    "name = 'Karl-Anthony Towns'\n",
    "player_info = players.find_players_by_full_name(name) #can also search by player number, first name, last name, etc.\n",
    "player_id = player_info[0]['id']"
   ]
  },
  {
   "cell_type": "markdown",
   "id": "869a7d5f",
   "metadata": {},
   "source": [
    "Get base stats (`PTS`, `RBS`, etc.) and advanced stats (`AST%`, etc.) and join them into one dataframe. Also drop the columns with `RANK` in the name; we don't care about those."
   ]
  },
  {
   "cell_type": "code",
   "execution_count": 4,
   "id": "9edf5cc9",
   "metadata": {},
   "outputs": [],
   "source": [
    "base_logs = playergamelogs.PlayerGameLogs(player_id_nullable = player_id, season_nullable='2021-22').get_data_frames()[0]\n",
    "adv_logs = playergamelogs.PlayerGameLogs(player_id_nullable=player_id, season_nullable='2021-22', measure_type_player_game_logs_nullable='Advanced').get_data_frames()[0]\n",
    "\n",
    "#join the advanced and base logs. 'inner' will drop the identical columns e.g. 'PLAYER_NAME', 'TEAM_NAME', etc.\n",
    "merge_logs = pd.merge(base_logs,adv_logs,on=['PLAYER_ID','GAME_ID'],suffixes=['','_RANK'])\n",
    "#lets also drop all of the columns with 'RANK' in the name. we don't care about rankings...\n",
    "merge_logs.drop([i for i in merge_logs.columns if 'RANK' in i], axis=1, inplace=True)\n"
   ]
  },
  {
   "cell_type": "markdown",
   "id": "9edf7069",
   "metadata": {},
   "source": [
    "Now, get the data from the opposing team, based on *previous* matchups."
   ]
  },
  {
   "cell_type": "code",
   "execution_count": 5,
   "id": "c2bbcb3a",
   "metadata": {},
   "outputs": [],
   "source": [
    "#parse the matchup name to get the opponent abbreviation\n",
    "merge_logs['OPPONENT'] = merge_logs['MATCHUP'].str.split(' vs. | @ ',expand=True)[1]"
   ]
  },
  {
   "cell_type": "code",
   "execution_count": 6,
   "id": "b2590538",
   "metadata": {},
   "outputs": [],
   "source": [
    "#get the opponent ID from the teams API\n",
    "def GetTeamID(s):\n",
    "    return teams.find_team_by_abbreviation(s)['id']\n",
    "merge_logs['OPPONENT_ID'] = merge_logs['OPPONENT'].apply(GetTeamID)"
   ]
  },
  {
   "cell_type": "code",
   "execution_count": 7,
   "id": "429b8ea9",
   "metadata": {},
   "outputs": [],
   "source": [
    "def GetPriorTeamDefense(row):\n",
    "    player_id = row['PLAYER_ID']\n",
    "    opponent_id = row['OPPONENT_ID']\n",
    "    game_date = row['GAME_DATE']\n",
    "    \n",
    "    t = datetime.strptime(game_date,'%Y-%m-%dT%H:%M:%S')\n",
    "    y = t - timedelta(days=1) #calculate the day before, because you want to look at PRIOR defensive matchups\n",
    "    a = playerdashboardbyopponent.PlayerDashboardByOpponent(player_id=player_id, opponent_team_id=opponent_id, date_to_nullable=y.strftime('%Y-%m-%dT%H:%M:%S'), per_mode_detailed='PerGame').get_data_frames()[0]\n",
    "    a.drop([i for i in a.columns if 'RANK' in i], axis=1, inplace=True)\n",
    "    return a"
   ]
  },
  {
   "cell_type": "code",
   "execution_count": 8,
   "id": "c43c7446",
   "metadata": {},
   "outputs": [
    {
     "data": {
      "text/plain": [
       "0      GROUP_SET GROUP_VALUE  GP  W  L  W_PCT   MIN...\n",
       "1      GROUP_SET GROUP_VALUE  GP  W  L  W_PCT   MIN...\n",
       "2      GROUP_SET GROUP_VALUE  GP  W  L  W_PCT   MIN...\n",
       "dtype: object"
      ]
     },
     "execution_count": 8,
     "metadata": {},
     "output_type": "execute_result"
    }
   ],
   "source": [
    "B = merge_logs.iloc[:3].apply(GetPriorTeamDefense, axis=1)\n",
    "B"
   ]
  },
  {
   "cell_type": "code",
   "execution_count": null,
   "id": "3b2a19e9",
   "metadata": {},
   "outputs": [],
   "source": []
  }
 ],
 "metadata": {
  "kernelspec": {
   "display_name": "Python 3 (ipykernel)",
   "language": "python",
   "name": "python3"
  },
  "language_info": {
   "codemirror_mode": {
    "name": "ipython",
    "version": 3
   },
   "file_extension": ".py",
   "mimetype": "text/x-python",
   "name": "python",
   "nbconvert_exporter": "python",
   "pygments_lexer": "ipython3",
   "version": "3.10.1"
  }
 },
 "nbformat": 4,
 "nbformat_minor": 5
}
