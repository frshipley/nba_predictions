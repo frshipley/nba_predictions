{
 "cells": [
  {
   "cell_type": "code",
   "execution_count": 1,
   "id": "c4f3ec4d",
   "metadata": {
    "pycharm": {
     "name": "#%%\n"
    }
   },
   "outputs": [],
   "source": [
    "import pandas as pd\n",
    "import altair as alt\n",
    "import numpy as np"
   ]
  },
  {
   "cell_type": "code",
   "execution_count": 2,
   "id": "8855cea7",
   "metadata": {
    "pycharm": {
     "name": "#%%\n"
    }
   },
   "outputs": [],
   "source": [
    "def flipColNames(c):\n",
    "    d = dict()\n",
    "    for s in c:\n",
    "        parts = s.split(\"_\")\n",
    "        d[s] = \"_\".join(parts[::-1])\n",
    "    return d"
   ]
  },
  {
   "cell_type": "code",
   "execution_count": 3,
   "id": "dd5f1eff",
   "metadata": {
    "pycharm": {
     "name": "#%%\n"
    }
   },
   "outputs": [],
   "source": [
    "#load predictions and lines\n",
    "df_p = pd.read_pickle(f\"./logs/current_and_future_predictions.pkl\")\n",
    "df_p = df_p.loc[df_p['FUTURE_GAME']==1] #get only upcoming predictions\n",
    "\n",
    "lines = pd.read_pickle(f\"./logs/latest_line_all.pkl\")"
   ]
  },
  {
   "cell_type": "code",
   "execution_count": 4,
   "id": "d2a30a08",
   "metadata": {
    "pycharm": {
     "name": "#%%\n"
    }
   },
   "outputs": [],
   "source": [
    "#get labels for the stats and stats+\"_PREDICT\"\n",
    "stats = [\"PTS\", \"REB\", \"AST\", \"FG3M\", \"BLK\", \"STL\"]\n",
    "stats_pred = [s+\"_PREDICT\" for s in stats]"
   ]
  },
  {
   "cell_type": "code",
   "execution_count": 5,
   "id": "3dcbfe37",
   "metadata": {
    "pycharm": {
     "name": "#%%\n"
    }
   },
   "outputs": [],
   "source": [
    "#join the lines and the predictions\n",
    "non_stat_cols = [\"PLAYER_NAME\",\n",
    "         \"OPPONENT\",\n",
    "         \"GAME_DATE\"]\n",
    "\n",
    "df_p = (df_p[non_stat_cols+['POSITION']+stats_pred]\n",
    "        .groupby(non_stat_cols).agg(\"mean\").reset_index()\n",
    "        .merge(lines, left_on='PLAYER_NAME', right_on='PLAYER')\n",
    "        .drop(\"PLAYER\", axis=1)\n",
    "       )"
   ]
  },
  {
   "cell_type": "code",
   "execution_count": 6,
   "id": "23c3f87b",
   "metadata": {
    "pycharm": {
     "name": "#%%\n"
    }
   },
   "outputs": [],
   "source": [
    "#make a normalized deltaF/F \"score\" for comparing deviations among stats \n",
    "#e.g. +3 BLK predicted is much stronger signal than +3 PTS\n",
    "\n",
    "for stat in stats:\n",
    "    df_p[stat+\"_dff\"] = (df_p[stat+\"_PREDICT\"] - df_p[stat+\"_LINE\"]) / df_p[stat+\"_LINE\"]"
   ]
  },
  {
   "cell_type": "code",
   "execution_count": 14,
   "id": "358593dd",
   "metadata": {
    "pycharm": {
     "name": "#%%\n"
    }
   },
   "outputs": [],
   "source": [
    "#flip the column names for proper conversion to long\n",
    "c = df_p.columns.to_list()[3:]\n",
    "c_flip = flipColNames(c)\n",
    "df_p.rename(columns=c_flip, inplace=True)"
   ]
  },
  {
   "cell_type": "code",
   "execution_count": 19,
   "id": "6d695a8d",
   "metadata": {
    "pycharm": {
     "name": "#%%\n"
    }
   },
   "outputs": [],
   "source": [
    "labels = [\"PREDICT\", \"LINE\", \"OVER\", \"UNDER\", \"dff\"]\n",
    "df_p_long = pd.wide_to_long(df_p, stubnames=labels, i = [\"PLAYER_NAME\",\"GAME_DATE\"], j=\"STAT\", sep=\"_\", suffix=r'\\w+')[labels]\n",
    "df_p_long.reset_index(inplace=True)"
   ]
  },
  {
   "cell_type": "code",
   "execution_count": 20,
   "id": "cc8ca042",
   "metadata": {
    "pycharm": {
     "name": "#%%\n"
    }
   },
   "outputs": [],
   "source": [
    "df_p_long.to_pickle(f\"./logs/\")"
   ]
  },
  {
   "cell_type": "code",
   "execution_count": null,
   "id": "7fe67a3b",
   "metadata": {
    "pycharm": {
     "name": "#%%\n"
    }
   },
   "outputs": [],
   "source": []
  },
  {
   "cell_type": "code",
   "execution_count": null,
   "id": "47c20c3b",
   "metadata": {
    "pycharm": {
     "name": "#%%\n"
    }
   },
   "outputs": [],
   "source": []
  },
  {
   "cell_type": "code",
   "execution_count": null,
   "id": "bc8a9d20",
   "metadata": {
    "pycharm": {
     "name": "#%%\n"
    }
   },
   "outputs": [],
   "source": []
  },
  {
   "cell_type": "code",
   "execution_count": null,
   "id": "e4a0aead",
   "metadata": {
    "pycharm": {
     "name": "#%%\n"
    }
   },
   "outputs": [],
   "source": []
  },
  {
   "cell_type": "code",
   "execution_count": null,
   "id": "40e2147a",
   "metadata": {
    "pycharm": {
     "name": "#%%\n"
    }
   },
   "outputs": [],
   "source": []
  }
 ],
 "metadata": {
  "kernelspec": {
   "display_name": "Python 3 (ipykernel)",
   "language": "python",
   "name": "python3"
  },
  "language_info": {
   "codemirror_mode": {
    "name": "ipython",
    "version": 3
   },
   "file_extension": ".py",
   "mimetype": "text/x-python",
   "name": "python",
   "nbconvert_exporter": "python",
   "pygments_lexer": "ipython3",
   "version": "3.10.1"
  }
 },
 "nbformat": 4,
 "nbformat_minor": 5
}