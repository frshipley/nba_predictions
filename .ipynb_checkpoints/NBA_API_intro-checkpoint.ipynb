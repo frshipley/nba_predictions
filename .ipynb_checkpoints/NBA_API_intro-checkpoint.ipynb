{
 "cells": [
  {
   "cell_type": "markdown",
   "id": "13aea5ab",
   "metadata": {},
   "source": [
    "# Playing with NBA API"
   ]
  },
  {
   "cell_type": "code",
   "execution_count": 2,
   "id": "ce1ae970",
   "metadata": {},
   "outputs": [],
   "source": [
    "import numpy as np\n",
    "import pandas as pd\n",
    "import matplotlib.pyplot as plt"
   ]
  },
  {
   "cell_type": "markdown",
   "id": "436c758e",
   "metadata": {},
   "source": [
    "## Player career stats\n",
    "Simple example showing how to look up particular stats for a player. \n",
    "\n",
    "First, have to look up the player from the static API. This has the player's ID, name, and whether they are active. You can use this to look up a player, or get every player (active, inactive, or either)"
   ]
  },
  {
   "cell_type": "code",
   "execution_count": 3,
   "id": "2e8b71d8",
   "metadata": {},
   "outputs": [
    {
     "data": {
      "text/plain": [
       "[{'id': 201142,\n",
       "  'full_name': 'Kevin Durant',\n",
       "  'first_name': 'Kevin',\n",
       "  'last_name': 'Durant',\n",
       "  'is_active': True}]"
      ]
     },
     "execution_count": 3,
     "metadata": {},
     "output_type": "execute_result"
    }
   ],
   "source": [
    "from nba_api.stats.static import players\n",
    "player_info = players.find_players_by_full_name('Kevin Durant') #can also search by player number, first name, last name, etc.\n",
    "player_info"
   ]
  },
  {
   "cell_type": "markdown",
   "id": "65fa7b09",
   "metadata": {},
   "source": [
    "It's easier now to move to looking up players by ID number, so jot down the number"
   ]
  },
  {
   "cell_type": "code",
   "execution_count": 4,
   "id": "51ec52c3",
   "metadata": {},
   "outputs": [],
   "source": [
    "id = player_info[0]['id']"
   ]
  },
  {
   "cell_type": "markdown",
   "id": "25cc3ca3",
   "metadata": {},
   "source": [
    "Moving forward, we want to look up stats (that may be changing frequently) from the dynamic API endpoints. There are a lot of endpoints and the table of contents can be found [here](https://github.com/swar/nba_api/blob/master/docs/table_of_contents.md)."
   ]
  },
  {
   "cell_type": "code",
   "execution_count": 5,
   "id": "d26781dc",
   "metadata": {},
   "outputs": [
    {
     "data": {
      "text/html": [
       "<div>\n",
       "<style scoped>\n",
       "    .dataframe tbody tr th:only-of-type {\n",
       "        vertical-align: middle;\n",
       "    }\n",
       "\n",
       "    .dataframe tbody tr th {\n",
       "        vertical-align: top;\n",
       "    }\n",
       "\n",
       "    .dataframe thead th {\n",
       "        text-align: right;\n",
       "    }\n",
       "</style>\n",
       "<table border=\"1\" class=\"dataframe\">\n",
       "  <thead>\n",
       "    <tr style=\"text-align: right;\">\n",
       "      <th></th>\n",
       "      <th>PLAYER_ID</th>\n",
       "      <th>SEASON_ID</th>\n",
       "      <th>LEAGUE_ID</th>\n",
       "      <th>TEAM_ID</th>\n",
       "      <th>TEAM_ABBREVIATION</th>\n",
       "      <th>PLAYER_AGE</th>\n",
       "      <th>GP</th>\n",
       "      <th>GS</th>\n",
       "      <th>MIN</th>\n",
       "      <th>FGM</th>\n",
       "      <th>...</th>\n",
       "      <th>FT_PCT</th>\n",
       "      <th>OREB</th>\n",
       "      <th>DREB</th>\n",
       "      <th>REB</th>\n",
       "      <th>AST</th>\n",
       "      <th>STL</th>\n",
       "      <th>BLK</th>\n",
       "      <th>TOV</th>\n",
       "      <th>PF</th>\n",
       "      <th>PTS</th>\n",
       "    </tr>\n",
       "  </thead>\n",
       "  <tbody>\n",
       "    <tr>\n",
       "      <th>0</th>\n",
       "      <td>201142</td>\n",
       "      <td>2007-08</td>\n",
       "      <td>00</td>\n",
       "      <td>1610612760</td>\n",
       "      <td>SEA</td>\n",
       "      <td>19.0</td>\n",
       "      <td>80</td>\n",
       "      <td>80</td>\n",
       "      <td>34.6</td>\n",
       "      <td>7.3</td>\n",
       "      <td>...</td>\n",
       "      <td>0.873</td>\n",
       "      <td>0.9</td>\n",
       "      <td>3.5</td>\n",
       "      <td>4.4</td>\n",
       "      <td>2.4</td>\n",
       "      <td>1.0</td>\n",
       "      <td>0.9</td>\n",
       "      <td>2.9</td>\n",
       "      <td>1.5</td>\n",
       "      <td>20.3</td>\n",
       "    </tr>\n",
       "    <tr>\n",
       "      <th>1</th>\n",
       "      <td>201142</td>\n",
       "      <td>2008-09</td>\n",
       "      <td>00</td>\n",
       "      <td>1610612760</td>\n",
       "      <td>OKC</td>\n",
       "      <td>20.0</td>\n",
       "      <td>74</td>\n",
       "      <td>74</td>\n",
       "      <td>39.0</td>\n",
       "      <td>8.9</td>\n",
       "      <td>...</td>\n",
       "      <td>0.863</td>\n",
       "      <td>1.0</td>\n",
       "      <td>5.5</td>\n",
       "      <td>6.5</td>\n",
       "      <td>2.8</td>\n",
       "      <td>1.3</td>\n",
       "      <td>0.7</td>\n",
       "      <td>3.0</td>\n",
       "      <td>1.8</td>\n",
       "      <td>25.3</td>\n",
       "    </tr>\n",
       "    <tr>\n",
       "      <th>2</th>\n",
       "      <td>201142</td>\n",
       "      <td>2009-10</td>\n",
       "      <td>00</td>\n",
       "      <td>1610612760</td>\n",
       "      <td>OKC</td>\n",
       "      <td>21.0</td>\n",
       "      <td>82</td>\n",
       "      <td>82</td>\n",
       "      <td>39.5</td>\n",
       "      <td>9.7</td>\n",
       "      <td>...</td>\n",
       "      <td>0.900</td>\n",
       "      <td>1.3</td>\n",
       "      <td>6.3</td>\n",
       "      <td>7.6</td>\n",
       "      <td>2.8</td>\n",
       "      <td>1.4</td>\n",
       "      <td>1.0</td>\n",
       "      <td>3.3</td>\n",
       "      <td>2.1</td>\n",
       "      <td>30.1</td>\n",
       "    </tr>\n",
       "    <tr>\n",
       "      <th>3</th>\n",
       "      <td>201142</td>\n",
       "      <td>2010-11</td>\n",
       "      <td>00</td>\n",
       "      <td>1610612760</td>\n",
       "      <td>OKC</td>\n",
       "      <td>22.0</td>\n",
       "      <td>78</td>\n",
       "      <td>78</td>\n",
       "      <td>38.9</td>\n",
       "      <td>9.1</td>\n",
       "      <td>...</td>\n",
       "      <td>0.880</td>\n",
       "      <td>0.7</td>\n",
       "      <td>6.1</td>\n",
       "      <td>6.8</td>\n",
       "      <td>2.7</td>\n",
       "      <td>1.1</td>\n",
       "      <td>1.0</td>\n",
       "      <td>2.8</td>\n",
       "      <td>2.0</td>\n",
       "      <td>27.7</td>\n",
       "    </tr>\n",
       "    <tr>\n",
       "      <th>4</th>\n",
       "      <td>201142</td>\n",
       "      <td>2011-12</td>\n",
       "      <td>00</td>\n",
       "      <td>1610612760</td>\n",
       "      <td>OKC</td>\n",
       "      <td>23.0</td>\n",
       "      <td>66</td>\n",
       "      <td>66</td>\n",
       "      <td>38.6</td>\n",
       "      <td>9.7</td>\n",
       "      <td>...</td>\n",
       "      <td>0.860</td>\n",
       "      <td>0.6</td>\n",
       "      <td>7.4</td>\n",
       "      <td>8.0</td>\n",
       "      <td>3.5</td>\n",
       "      <td>1.3</td>\n",
       "      <td>1.2</td>\n",
       "      <td>3.8</td>\n",
       "      <td>2.0</td>\n",
       "      <td>28.0</td>\n",
       "    </tr>\n",
       "  </tbody>\n",
       "</table>\n",
       "<p>5 rows × 27 columns</p>\n",
       "</div>"
      ],
      "text/plain": [
       "   PLAYER_ID SEASON_ID LEAGUE_ID     TEAM_ID TEAM_ABBREVIATION  PLAYER_AGE  \\\n",
       "0     201142   2007-08        00  1610612760               SEA        19.0   \n",
       "1     201142   2008-09        00  1610612760               OKC        20.0   \n",
       "2     201142   2009-10        00  1610612760               OKC        21.0   \n",
       "3     201142   2010-11        00  1610612760               OKC        22.0   \n",
       "4     201142   2011-12        00  1610612760               OKC        23.0   \n",
       "\n",
       "   GP  GS   MIN  FGM  ...  FT_PCT  OREB  DREB  REB  AST  STL  BLK  TOV   PF  \\\n",
       "0  80  80  34.6  7.3  ...   0.873   0.9   3.5  4.4  2.4  1.0  0.9  2.9  1.5   \n",
       "1  74  74  39.0  8.9  ...   0.863   1.0   5.5  6.5  2.8  1.3  0.7  3.0  1.8   \n",
       "2  82  82  39.5  9.7  ...   0.900   1.3   6.3  7.6  2.8  1.4  1.0  3.3  2.1   \n",
       "3  78  78  38.9  9.1  ...   0.880   0.7   6.1  6.8  2.7  1.1  1.0  2.8  2.0   \n",
       "4  66  66  38.6  9.7  ...   0.860   0.6   7.4  8.0  3.5  1.3  1.2  3.8  2.0   \n",
       "\n",
       "    PTS  \n",
       "0  20.3  \n",
       "1  25.3  \n",
       "2  30.1  \n",
       "3  27.7  \n",
       "4  28.0  \n",
       "\n",
       "[5 rows x 27 columns]"
      ]
     },
     "execution_count": 5,
     "metadata": {},
     "output_type": "execute_result"
    }
   ],
   "source": [
    "from nba_api.stats.endpoints import playercareerstats\n",
    "career = playercareerstats.PlayerCareerStats(id) # first, get KD's career stats from is ID\n",
    "\n",
    "per = 'PerGame' #per mode can be 'Totals', 'PerGame', or 'Per36'\n",
    "stats = playercareerstats.PlayerCareerStats(id, per_mode36=per).get_data_frames()[0] #get the stats, and convert to a dataframe\n",
    "stats.head()"
   ]
  },
  {
   "cell_type": "code",
   "execution_count": 6,
   "id": "dfb8868e",
   "metadata": {},
   "outputs": [
    {
     "data": {
      "text/plain": [
       "0     2007-08\n",
       "1     2008-09\n",
       "2     2009-10\n",
       "3     2010-11\n",
       "4     2011-12\n",
       "5     2012-13\n",
       "6     2013-14\n",
       "7     2014-15\n",
       "8     2015-16\n",
       "9     2016-17\n",
       "10    2017-18\n",
       "11    2018-19\n",
       "12    2020-21\n",
       "13    2021-22\n",
       "Name: SEASON_ID, dtype: object"
      ]
     },
     "execution_count": 6,
     "metadata": {},
     "output_type": "execute_result"
    }
   ],
   "source": [
    "stats['SEASON_ID']"
   ]
  },
  {
   "cell_type": "code",
   "execution_count": 7,
   "id": "6f2b1761",
   "metadata": {},
   "outputs": [
    {
     "data": {
      "image/png": "[encoded data removed]",
      "text/plain": [
       "<Figure size 432x288 with 1 Axes>"
      ]
     },
     "metadata": {
      "needs_background": "light"
     },
     "output_type": "display_data"
    }
   ],
   "source": [
    "#plot\n",
    "stat = 'PTS'\n",
    "plt.plot(stats['SEASON_ID'], stats[stat])\n",
    "plt.xlabel('Year')\n",
    "plt.xticks(rotation = 45, horizontalalignment='right')\n",
    "plt.ylabel(stat + ' (' + per + ')')\n",
    "plt.title(player_info[0]['full_name'] + '\\'s ' + stat)\n",
    "plt.grid(True)\n",
    "plt.show()      "
   ]
  },
  {
   "cell_type": "markdown",
   "id": "42d7e9fe",
   "metadata": {},
   "source": [
    "## Team stats\n",
    "\n",
    "You can also import the teams from the static API and look up team ID and info. Lets plot some stuff for the Knicks"
   ]
  },
  {
   "cell_type": "code",
   "execution_count": 8,
   "id": "787cabf3",
   "metadata": {},
   "outputs": [],
   "source": [
    "from nba_api.stats.static import teams\n",
    "knicks = teams.find_teams_by_full_name('knicks')\n",
    "knicks_id = knicks[0]['id']"
   ]
  },
  {
   "cell_type": "code",
   "execution_count": 9,
   "id": "ef939faa",
   "metadata": {},
   "outputs": [
    {
     "data": {
      "text/plain": [
       "Text(36.125, 0.5, 'FG PCT')"
      ]
     },
     "execution_count": 9,
     "metadata": {},
     "output_type": "execute_result"
    },
    {
     "data": {
      "image/png": "[encoded data removed]",
      "text/plain": [
       "<Figure size 504x504 with 1 Axes>"
      ]
     },
     "metadata": {
      "needs_background": "light"
     },
     "output_type": "display_data"
    }
   ],
   "source": [
    "from nba_api.stats.endpoints import teamplayerdashboard\n",
    "knicks_stats = teamplayerdashboard.TeamPlayerDashboard(team_id=knicks_id, per_mode_detailed='PerGame')\n",
    "knicks_stats = knicks_stats.players_season_totals.get_data_frame()\n",
    "\n",
    "from adjustText import adjust_text\n",
    "fig, ax = plt.subplots(figsize=(7,7))\n",
    "x = knicks_stats['FT_PCT']\n",
    "y = knicks_stats['FG_PCT']\n",
    "namelist = knicks_stats['NICKNAME']\n",
    "\n",
    "plt.scatter(x,y)\n",
    "texts = []\n",
    "for x, y, s in zip(x, y, namelist):\n",
    "    texts.append(plt.text(x, y, s))\n",
    "adjust_text(texts)\n",
    "\n",
    "\n",
    "ax.set_xlabel('FT PCT')\n",
    "ax.set_ylabel('FG PCT')"
   ]
  },
  {
   "cell_type": "markdown",
   "id": "1b1fde80",
   "metadata": {},
   "source": [
    "# Getting  player game logs"
   ]
  },
  {
   "cell_type": "code",
   "execution_count": 10,
   "id": "5640e3e3",
   "metadata": {},
   "outputs": [],
   "source": [
    "from nba_api.stats.static import players\n",
    "from nba_api.stats.endpoints import commonplayerinfo\n",
    "player_info = players.find_players_by_full_name('Karl-Anthony Towns') #can also search by player number, first name, last name, etc.\n",
    "player_id = player_info[0]['id']\n",
    "info = commonplayerinfo.CommonPlayerInfo(player_id).get_data_frames()[0]"
   ]
  },
  {
   "cell_type": "code",
   "execution_count": 11,
   "id": "2b6ddff9",
   "metadata": {
    "scrolled": true
   },
   "outputs": [
    {
     "data": {
      "text/plain": [
       "0    Center-Forward\n",
       "Name: POSITION, dtype: object"
      ]
     },
     "execution_count": 11,
     "metadata": {},
     "output_type": "execute_result"
    }
   ],
   "source": [
    "info['POSITION']"
   ]
  },
  {
   "cell_type": "markdown",
   "id": "0b34faa3",
   "metadata": {},
   "source": [
    "## Get base game stats"
   ]
  },
  {
   "cell_type": "code",
   "execution_count": 12,
   "id": "25422ada",
   "metadata": {},
   "outputs": [
    {
     "data": {
      "text/plain": [
       "Index(['SEASON_YEAR', 'PLAYER_ID', 'PLAYER_NAME', 'NICKNAME', 'TEAM_ID',\n",
       "       'TEAM_ABBREVIATION', 'TEAM_NAME', 'GAME_ID', 'GAME_DATE', 'MATCHUP',\n",
       "       'WL', 'MIN', 'FGM', 'FGA', 'FG_PCT', 'FG3M', 'FG3A', 'FG3_PCT', 'FTM',\n",
       "       'FTA', 'FT_PCT', 'OREB', 'DREB', 'REB', 'AST', 'TOV', 'STL', 'BLK',\n",
       "       'BLKA', 'PF', 'PFD', 'PTS', 'PLUS_MINUS', 'NBA_FANTASY_PTS', 'DD2',\n",
       "       'TD3', 'WNBA_FANTASY_PTS', 'GP_RANK', 'W_RANK', 'L_RANK', 'W_PCT_RANK',\n",
       "       'MIN_RANK', 'FGM_RANK', 'FGA_RANK', 'FG_PCT_RANK', 'FG3M_RANK',\n",
       "       'FG3A_RANK', 'FG3_PCT_RANK', 'FTM_RANK', 'FTA_RANK', 'FT_PCT_RANK',\n",
       "       'OREB_RANK', 'DREB_RANK', 'REB_RANK', 'AST_RANK', 'TOV_RANK',\n",
       "       'STL_RANK', 'BLK_RANK', 'BLKA_RANK', 'PF_RANK', 'PFD_RANK', 'PTS_RANK',\n",
       "       'PLUS_MINUS_RANK', 'NBA_FANTASY_PTS_RANK', 'DD2_RANK', 'TD3_RANK',\n",
       "       'WNBA_FANTASY_PTS_RANK', 'VIDEO_AVAILABLE_FLAG'],\n",
       "      dtype='object')"
      ]
     },
     "execution_count": 12,
     "metadata": {},
     "output_type": "execute_result"
    }
   ],
   "source": [
    "from nba_api.stats.endpoints import playergamelogs\n",
    "\n",
    "base_logs = playergamelogs.PlayerGameLogs(player_id_nullable = player_id, season_nullable='2021-22').get_data_frames()[0]\n",
    "base_logs.columns"
   ]
  },
  {
   "cell_type": "code",
   "execution_count": 13,
   "id": "01670372",
   "metadata": {},
   "outputs": [
    {
     "ename": "KeyError",
     "evalue": "0",
     "output_type": "error",
     "traceback": [
      "\u001b[1;31m---------------------------------------------------------------------------\u001b[0m",
      "\u001b[1;31mKeyError\u001b[0m                                  Traceback (most recent call last)",
      "File \u001b[1;32m~\\AppData\\Local\\Programs\\Python\\Python310\\lib\\site-packages\\pandas\\core\\indexes\\base.py:3621\u001b[0m, in \u001b[0;36mIndex.get_loc\u001b[1;34m(self, key, method, tolerance)\u001b[0m\n\u001b[0;32m   3620\u001b[0m \u001b[38;5;28;01mtry\u001b[39;00m:\n\u001b[1;32m-> 3621\u001b[0m     \u001b[38;5;28;01mreturn\u001b[39;00m \u001b[38;5;28;43mself\u001b[39;49m\u001b[38;5;241;43m.\u001b[39;49m\u001b[43m_engine\u001b[49m\u001b[38;5;241;43m.\u001b[39;49m\u001b[43mget_loc\u001b[49m\u001b[43m(\u001b[49m\u001b[43mcasted_key\u001b[49m\u001b[43m)\u001b[49m\n\u001b[0;32m   3622\u001b[0m \u001b[38;5;28;01mexcept\u001b[39;00m \u001b[38;5;167;01mKeyError\u001b[39;00m \u001b[38;5;28;01mas\u001b[39;00m err:\n",
      "File \u001b[1;32m~\\AppData\\Local\\Programs\\Python\\Python310\\lib\\site-packages\\pandas\\_libs\\index.pyx:136\u001b[0m, in \u001b[0;36mpandas._libs.index.IndexEngine.get_loc\u001b[1;34m()\u001b[0m\n",
      "File \u001b[1;32m~\\AppData\\Local\\Programs\\Python\\Python310\\lib\\site-packages\\pandas\\_libs\\index.pyx:163\u001b[0m, in \u001b[0;36mpandas._libs.index.IndexEngine.get_loc\u001b[1;34m()\u001b[0m\n",
      "File \u001b[1;32mpandas\\_libs\\hashtable_class_helper.pxi:5198\u001b[0m, in \u001b[0;36mpandas._libs.hashtable.PyObjectHashTable.get_item\u001b[1;34m()\u001b[0m\n",
      "File \u001b[1;32mpandas\\_libs\\hashtable_class_helper.pxi:5206\u001b[0m, in \u001b[0;36mpandas._libs.hashtable.PyObjectHashTable.get_item\u001b[1;34m()\u001b[0m\n",
      "\u001b[1;31mKeyError\u001b[0m: 0",
      "\nThe above exception was the direct cause of the following exception:\n",
      "\u001b[1;31mKeyError\u001b[0m                                  Traceback (most recent call last)",
      "Input \u001b[1;32mIn [13]\u001b[0m, in \u001b[0;36m<cell line: 1>\u001b[1;34m()\u001b[0m\n\u001b[1;32m----> 1\u001b[0m df \u001b[38;5;241m=\u001b[39m \u001b[43mbase_logs\u001b[49m\u001b[43m[\u001b[49m\u001b[38;5;241;43m0\u001b[39;49m\u001b[43m]\u001b[49m[[\u001b[38;5;124m'\u001b[39m\u001b[38;5;124mPLAYER_NAME\u001b[39m\u001b[38;5;124m'\u001b[39m,\u001b[38;5;124m'\u001b[39m\u001b[38;5;124mGAME_DATE\u001b[39m\u001b[38;5;124m'\u001b[39m,\u001b[38;5;124m'\u001b[39m\u001b[38;5;124mMATCHUP\u001b[39m\u001b[38;5;124m'\u001b[39m,\u001b[38;5;124m'\u001b[39m\u001b[38;5;124mPTS\u001b[39m\u001b[38;5;124m'\u001b[39m,\u001b[38;5;124m'\u001b[39m\u001b[38;5;124mREB\u001b[39m\u001b[38;5;124m'\u001b[39m,\u001b[38;5;124m'\u001b[39m\u001b[38;5;124mAST\u001b[39m\u001b[38;5;124m'\u001b[39m]]\n\u001b[0;32m      2\u001b[0m df\u001b[38;5;241m.\u001b[39msort_values(\u001b[38;5;124m'\u001b[39m\u001b[38;5;124mPTS\u001b[39m\u001b[38;5;124m'\u001b[39m,ascending \u001b[38;5;241m=\u001b[39m \u001b[38;5;28;01mFalse\u001b[39;00m)[:\u001b[38;5;241m20\u001b[39m]\n",
      "File \u001b[1;32m~\\AppData\\Local\\Programs\\Python\\Python310\\lib\\site-packages\\pandas\\core\\frame.py:3505\u001b[0m, in \u001b[0;36mDataFrame.__getitem__\u001b[1;34m(self, key)\u001b[0m\n\u001b[0;32m   3503\u001b[0m \u001b[38;5;28;01mif\u001b[39;00m \u001b[38;5;28mself\u001b[39m\u001b[38;5;241m.\u001b[39mcolumns\u001b[38;5;241m.\u001b[39mnlevels \u001b[38;5;241m>\u001b[39m \u001b[38;5;241m1\u001b[39m:\n\u001b[0;32m   3504\u001b[0m     \u001b[38;5;28;01mreturn\u001b[39;00m \u001b[38;5;28mself\u001b[39m\u001b[38;5;241m.\u001b[39m_getitem_multilevel(key)\n\u001b[1;32m-> 3505\u001b[0m indexer \u001b[38;5;241m=\u001b[39m \u001b[38;5;28;43mself\u001b[39;49m\u001b[38;5;241;43m.\u001b[39;49m\u001b[43mcolumns\u001b[49m\u001b[38;5;241;43m.\u001b[39;49m\u001b[43mget_loc\u001b[49m\u001b[43m(\u001b[49m\u001b[43mkey\u001b[49m\u001b[43m)\u001b[49m\n\u001b[0;32m   3506\u001b[0m \u001b[38;5;28;01mif\u001b[39;00m is_integer(indexer):\n\u001b[0;32m   3507\u001b[0m     indexer \u001b[38;5;241m=\u001b[39m [indexer]\n",
      "File \u001b[1;32m~\\AppData\\Local\\Programs\\Python\\Python310\\lib\\site-packages\\pandas\\core\\indexes\\base.py:3623\u001b[0m, in \u001b[0;36mIndex.get_loc\u001b[1;34m(self, key, method, tolerance)\u001b[0m\n\u001b[0;32m   3621\u001b[0m     \u001b[38;5;28;01mreturn\u001b[39;00m \u001b[38;5;28mself\u001b[39m\u001b[38;5;241m.\u001b[39m_engine\u001b[38;5;241m.\u001b[39mget_loc(casted_key)\n\u001b[0;32m   3622\u001b[0m \u001b[38;5;28;01mexcept\u001b[39;00m \u001b[38;5;167;01mKeyError\u001b[39;00m \u001b[38;5;28;01mas\u001b[39;00m err:\n\u001b[1;32m-> 3623\u001b[0m     \u001b[38;5;28;01mraise\u001b[39;00m \u001b[38;5;167;01mKeyError\u001b[39;00m(key) \u001b[38;5;28;01mfrom\u001b[39;00m \u001b[38;5;21;01merr\u001b[39;00m\n\u001b[0;32m   3624\u001b[0m \u001b[38;5;28;01mexcept\u001b[39;00m \u001b[38;5;167;01mTypeError\u001b[39;00m:\n\u001b[0;32m   3625\u001b[0m     \u001b[38;5;66;03m# If we have a listlike key, _check_indexing_error will raise\u001b[39;00m\n\u001b[0;32m   3626\u001b[0m     \u001b[38;5;66;03m#  InvalidIndexError. Otherwise we fall through and re-raise\u001b[39;00m\n\u001b[0;32m   3627\u001b[0m     \u001b[38;5;66;03m#  the TypeError.\u001b[39;00m\n\u001b[0;32m   3628\u001b[0m     \u001b[38;5;28mself\u001b[39m\u001b[38;5;241m.\u001b[39m_check_indexing_error(key)\n",
      "\u001b[1;31mKeyError\u001b[0m: 0"
     ]
    }
   ],
   "source": [
    "df = base_logs[0][['PLAYER_NAME','GAME_DATE','MATCHUP','PTS','REB','AST']]\n",
    "df.sort_values('PTS',ascending = False)[:20]"
   ]
  },
  {
   "cell_type": "markdown",
   "id": "3292ee22",
   "metadata": {},
   "source": [
    "## Get advanced game stats"
   ]
  },
  {
   "cell_type": "code",
   "execution_count": null,
   "id": "3b571266",
   "metadata": {
    "scrolled": true
   },
   "outputs": [],
   "source": [
    "adv_logs = playergamelogs.PlayerGameLogs(player_id_nullable=player_id, season_nullable='2021-22', measure_type_player_game_logs_nullable='Advanced').get_data_frames()[0]\n",
    "adv_logs.columns"
   ]
  },
  {
   "cell_type": "code",
   "execution_count": null,
   "id": "941cfb28",
   "metadata": {},
   "outputs": [],
   "source": [
    "adv_logs[['GAME_DATE', 'MATCHUP', 'AST_PCT', 'AST_TO', 'AST_RATIO']][:10]"
   ]
  },
  {
   "cell_type": "markdown",
   "id": "b492324a",
   "metadata": {},
   "source": [
    "## Get team opponent stats"
   ]
  },
  {
   "cell_type": "code",
   "execution_count": null,
   "id": "d476b4c0",
   "metadata": {},
   "outputs": [],
   "source": [
    "team_id = teams.find_teams_by_full_name('jazz')[0]['id']\n"
   ]
  },
  {
   "cell_type": "code",
   "execution_count": null,
   "id": "3c520411",
   "metadata": {},
   "outputs": [],
   "source": [
    "from nba_api.stats.endpoints import playerdashboardbyopponent\n",
    "a = playerdashboardbyopponent.PlayerDashboardByOpponent(player_id=player_id).get_data_frames()"
   ]
  },
  {
   "cell_type": "markdown",
   "id": "cb24eed1",
   "metadata": {},
   "source": [
    "`dashboard[3]` has the players stats broken up by team."
   ]
  },
  {
   "cell_type": "code",
   "execution_count": null,
   "id": "753d9a34",
   "metadata": {},
   "outputs": [],
   "source": [
    "a_opp = a[3]\n",
    "a_opp[a_opp['GROUP_VALUE'] == 'Utah Jazz']"
   ]
  },
  {
   "cell_type": "code",
   "execution_count": null,
   "id": "872273d1",
   "metadata": {},
   "outputs": [],
   "source": []
  },
  {
   "cell_type": "code",
   "execution_count": null,
   "id": "25383a2f",
   "metadata": {},
   "outputs": [],
   "source": [
    "adv_logs.head()"
   ]
  },
  {
   "cell_type": "code",
   "execution_count": null,
   "id": "d892a6e4",
   "metadata": {
    "scrolled": true
   },
   "outputs": [],
   "source": [
    "base_logs.head()"
   ]
  },
  {
   "cell_type": "markdown",
   "id": "e6eef224",
   "metadata": {},
   "source": [
    "## Join advanced and base stats"
   ]
  },
  {
   "cell_type": "code",
   "execution_count": 14,
   "id": "f59fb77d",
   "metadata": {},
   "outputs": [],
   "source": [
    "from nba_api.stats.static import teams\n",
    "from nba_api.stats.static import players\n",
    "from nba_api.stats.endpoints import playergamelogs\n",
    "from nba_api.stats.endpoints import playerdashboardbyopponent\n"
   ]
  },
  {
   "cell_type": "code",
   "execution_count": 15,
   "id": "a98f0f23",
   "metadata": {},
   "outputs": [],
   "source": [
    "base_logs = playergamelogs.PlayerGameLogs(player_id_nullable = player_id, season_nullable='2021-22').get_data_frames()[0]\n",
    "adv_logs = playergamelogs.PlayerGameLogs(player_id_nullable=player_id, season_nullable='2021-22', measure_type_player_game_logs_nullable='Advanced').get_data_frames()[0]\n",
    "\n",
    "#join the advanced and base logs. 'inner' will drop the identical columns e.g. 'PLAYER_NAME', 'TEAM_NAME', etc.\n",
    "merge_logs = pd.merge(base_logs,adv_logs,on=['PLAYER_ID','GAME_ID'],suffixes=['','_RANK'])\n",
    "#lets also drop all of the columns with 'RANK' in the name. we don't care about rankings...\n",
    "merge_logs.drop([i for i in merge_logs.columns if 'RANK' in i], axis=1, inplace=True)\n"
   ]
  },
  {
   "cell_type": "code",
   "execution_count": 16,
   "id": "bcaa1fae",
   "metadata": {},
   "outputs": [],
   "source": [
    "#parse the matchup name to get the opponent abbreviation\n",
    "merge_logs['OPPONENT'] = merge_logs['MATCHUP'].str.split(' vs. | @ ',expand=True)[1]"
   ]
  },
  {
   "cell_type": "code",
   "execution_count": 17,
   "id": "9740665c",
   "metadata": {},
   "outputs": [],
   "source": [
    "#get the opponent ID also\n",
    "def GetTeamID(s):\n",
    "    return teams.find_team_by_abbreviation(s)['id']\n",
    "merge_logs['OPPONENT_ID'] = merge_logs['OPPONENT'].apply(GetTeamID)"
   ]
  },
  {
   "cell_type": "code",
   "execution_count": 18,
   "id": "844650ec",
   "metadata": {},
   "outputs": [],
   "source": [
    "player_id = merge_logs['PLAYER_ID'][0]\n",
    "opponent_id = merge_logs['OPPONENT_ID'][0]\n",
    "\n",
    "from datetime import datetime\n",
    "from datetime import timedelta\n",
    "\n",
    "game_date = merge_logs['GAME_DATE'][0]\n",
    "t = datetime.strptime(game_date,'%Y-%m-%dT%H:%M:%S')\n",
    "y = t - timedelta(days=1)"
   ]
  },
  {
   "cell_type": "code",
   "execution_count": 19,
   "id": "52f5a5e1",
   "metadata": {},
   "outputs": [],
   "source": [
    "a = playerdashboardbyopponent.PlayerDashboardByOpponent(player_id=player_id, opponent_team_id=opponent_id, date_to_nullable=game_date, per_mode_detailed='PerGame').get_data_frames()[0]\n",
    "a.drop([i for i in a.columns if 'RANK' in i], axis=1, inplace=True)"
   ]
  },
  {
   "cell_type": "code",
   "execution_count": null,
   "id": "a378b469",
   "metadata": {},
   "outputs": [],
   "source": [
    "a['PTS']"
   ]
  },
  {
   "cell_type": "code",
   "execution_count": null,
   "id": "ebed7599",
   "metadata": {},
   "outputs": [],
   "source": [
    "game_date"
   ]
  },
  {
   "cell_type": "code",
   "execution_count": null,
   "id": "9ae0ecd0",
   "metadata": {},
   "outputs": [],
   "source": [
    "type(game_date)"
   ]
  },
  {
   "cell_type": "code",
   "execution_count": 20,
   "id": "e10a64c1",
   "metadata": {},
   "outputs": [],
   "source": [
    "from datetime import datetime\n",
    "from datetime import timedelta\n",
    "t = datetime.strptime(game_date,'%Y-%m-%dT%H:%M:%S')\n",
    "y = t - timedelta(days=1)"
   ]
  },
  {
   "cell_type": "code",
   "execution_count": 23,
   "id": "5a7634ee",
   "metadata": {},
   "outputs": [
    {
     "data": {
      "text/plain": [
       "'2022-04-06 00:00:00'"
      ]
     },
     "execution_count": 23,
     "metadata": {},
     "output_type": "execute_result"
    }
   ],
   "source": [
    "str(y)"
   ]
  },
  {
   "cell_type": "code",
   "execution_count": 24,
   "id": "61f85a58",
   "metadata": {},
   "outputs": [
    {
     "data": {
      "text/plain": [
       "'2022-04-07T00:00:00'"
      ]
     },
     "execution_count": 24,
     "metadata": {},
     "output_type": "execute_result"
    }
   ],
   "source": [
    "game_date"
   ]
  },
  {
   "cell_type": "code",
   "execution_count": null,
   "id": "cb80df54",
   "metadata": {},
   "outputs": [],
   "source": []
  }
 ],
 "metadata": {
  "kernelspec": {
   "display_name": "Python 3 (ipykernel)",
   "language": "python",
   "name": "python3"
  },
  "language_info": {
   "codemirror_mode": {
    "name": "ipython",
    "version": 3
   },
   "file_extension": ".py",
   "mimetype": "text/x-python",
   "name": "python",
   "nbconvert_exporter": "python",
   "pygments_lexer": "ipython3",
   "version": "3.10.1"
  }
 },
 "nbformat": 4,
 "nbformat_minor": 5
}
